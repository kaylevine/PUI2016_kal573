{
 "cells": [
  {
   "cell_type": "code",
   "execution_count": 1,
   "metadata": {
    "collapsed": false
   },
   "outputs": [
    {
     "data": {
      "text/plain": [
       "'/gws/open/NYCOpenData/nycopendata/data'"
      ]
     },
     "execution_count": 1,
     "metadata": {},
     "output_type": "execute_result"
    }
   ],
   "source": [
    "#check environmental variable DFDATA\n",
    "import os\n",
    "DFDATA = os.getenv(\"DFDATA\")\n",
    "DFDATA"
   ]
  },
  {
   "cell_type": "code",
   "execution_count": 2,
   "metadata": {
    "collapsed": false
   },
   "outputs": [
    {
     "data": {
      "text/html": [
       "<div>\n",
       "<table border=\"1\" class=\"dataframe\">\n",
       "  <thead>\n",
       "    <tr style=\"text-align: right;\">\n",
       "      <th></th>\n",
       "      <th>DBN</th>\n",
       "      <th>DISTRICT</th>\n",
       "      <th>SCHOOL</th>\n",
       "      <th>PRINCIPAL</th>\n",
       "      <th>PROGRESS REPORT TYPE</th>\n",
       "      <th>SCHOOL LEVEL*</th>\n",
       "      <th>PEER INDEX*</th>\n",
       "      <th>2010-2011 OVERALL GRADE</th>\n",
       "      <th>2010-2011 OVERALL SCORE</th>\n",
       "      <th>2010-2011 ENVIRONMENT CATEGORY SCORE</th>\n",
       "      <th>2010-2011 ENVIRONMENT GRADE</th>\n",
       "      <th>2010-2011 PERFORMANCE CATEGORY SCORE</th>\n",
       "      <th>2010-2011 PERFORMANCE GRADE</th>\n",
       "      <th>2010-2011 PROGRESS CATEGORY SCORE</th>\n",
       "      <th>2010-2011 PROGRESS GRADE</th>\n",
       "      <th>2010-2011 ADDITIONAL CREDIT</th>\n",
       "      <th>2009-10 PROGRESS REPORT GRADE</th>\n",
       "    </tr>\n",
       "  </thead>\n",
       "  <tbody>\n",
       "    <tr>\n",
       "      <th>0</th>\n",
       "      <td>01M015</td>\n",
       "      <td>1</td>\n",
       "      <td>P.S. 015 Roberto Clemente</td>\n",
       "      <td>Irene Sanchez</td>\n",
       "      <td>EMS</td>\n",
       "      <td>Elementary</td>\n",
       "      <td>63.61</td>\n",
       "      <td>C</td>\n",
       "      <td>27.0</td>\n",
       "      <td>6.4</td>\n",
       "      <td>B</td>\n",
       "      <td>2.1</td>\n",
       "      <td>D</td>\n",
       "      <td>18.0</td>\n",
       "      <td>C</td>\n",
       "      <td>0.5</td>\n",
       "      <td>C</td>\n",
       "    </tr>\n",
       "    <tr>\n",
       "      <th>1</th>\n",
       "      <td>01M019</td>\n",
       "      <td>1</td>\n",
       "      <td>P.S. 019 Asher Levy</td>\n",
       "      <td>Jacqueline Flanagan</td>\n",
       "      <td>EMS</td>\n",
       "      <td>Elementary</td>\n",
       "      <td>49.48</td>\n",
       "      <td>B</td>\n",
       "      <td>48.7</td>\n",
       "      <td>7.8</td>\n",
       "      <td>B</td>\n",
       "      <td>5.2</td>\n",
       "      <td>D</td>\n",
       "      <td>35.1</td>\n",
       "      <td>A</td>\n",
       "      <td>0.5</td>\n",
       "      <td>C</td>\n",
       "    </tr>\n",
       "    <tr>\n",
       "      <th>2</th>\n",
       "      <td>01M020</td>\n",
       "      <td>1</td>\n",
       "      <td>P.S. 020 Anna Silver</td>\n",
       "      <td>James Lee</td>\n",
       "      <td>EMS</td>\n",
       "      <td>Elementary</td>\n",
       "      <td>56.65</td>\n",
       "      <td>B</td>\n",
       "      <td>48.2</td>\n",
       "      <td>7.7</td>\n",
       "      <td>B</td>\n",
       "      <td>7.4</td>\n",
       "      <td>C</td>\n",
       "      <td>31.1</td>\n",
       "      <td>B</td>\n",
       "      <td>2.0</td>\n",
       "      <td>A</td>\n",
       "    </tr>\n",
       "    <tr>\n",
       "      <th>3</th>\n",
       "      <td>01M034</td>\n",
       "      <td>1</td>\n",
       "      <td>P.S. 034 Franklin D. Roosevelt</td>\n",
       "      <td>Joyce Stallings Harte</td>\n",
       "      <td>EMS</td>\n",
       "      <td>K-8</td>\n",
       "      <td>67.97</td>\n",
       "      <td>C</td>\n",
       "      <td>39.8</td>\n",
       "      <td>7.5</td>\n",
       "      <td>B</td>\n",
       "      <td>11.3</td>\n",
       "      <td>B</td>\n",
       "      <td>18.5</td>\n",
       "      <td>C</td>\n",
       "      <td>2.5</td>\n",
       "      <td>B</td>\n",
       "    </tr>\n",
       "    <tr>\n",
       "      <th>4</th>\n",
       "      <td>01M063</td>\n",
       "      <td>1</td>\n",
       "      <td>P.S. 063 William McKinley</td>\n",
       "      <td>Darlene Despeignes</td>\n",
       "      <td>EMS</td>\n",
       "      <td>Elementary</td>\n",
       "      <td>58.85</td>\n",
       "      <td>B</td>\n",
       "      <td>49.0</td>\n",
       "      <td>8.1</td>\n",
       "      <td>B</td>\n",
       "      <td>10.4</td>\n",
       "      <td>B</td>\n",
       "      <td>29.0</td>\n",
       "      <td>B</td>\n",
       "      <td>1.5</td>\n",
       "      <td>B</td>\n",
       "    </tr>\n",
       "  </tbody>\n",
       "</table>\n",
       "</div>"
      ],
      "text/plain": [
       "      DBN  DISTRICT                          SCHOOL              PRINCIPAL  \\\n",
       "0  01M015         1       P.S. 015 Roberto Clemente          Irene Sanchez   \n",
       "1  01M019         1             P.S. 019 Asher Levy    Jacqueline Flanagan   \n",
       "2  01M020         1            P.S. 020 Anna Silver              James Lee   \n",
       "3  01M034         1  P.S. 034 Franklin D. Roosevelt  Joyce Stallings Harte   \n",
       "4  01M063         1       P.S. 063 William McKinley     Darlene Despeignes   \n",
       "\n",
       "  PROGRESS REPORT TYPE SCHOOL LEVEL*  PEER INDEX* 2010-2011 OVERALL GRADE  \\\n",
       "0                  EMS    Elementary        63.61                      C    \n",
       "1                  EMS    Elementary        49.48                      B    \n",
       "2                  EMS    Elementary        56.65                      B    \n",
       "3                  EMS           K-8        67.97                      C    \n",
       "4                  EMS    Elementary        58.85                      B    \n",
       "\n",
       "   2010-2011 OVERALL SCORE  2010-2011 ENVIRONMENT CATEGORY SCORE  \\\n",
       "0                     27.0                                   6.4   \n",
       "1                     48.7                                   7.8   \n",
       "2                     48.2                                   7.7   \n",
       "3                     39.8                                   7.5   \n",
       "4                     49.0                                   8.1   \n",
       "\n",
       "  2010-2011 ENVIRONMENT GRADE  2010-2011 PERFORMANCE CATEGORY SCORE  \\\n",
       "0                          B                                    2.1   \n",
       "1                          B                                    5.2   \n",
       "2                          B                                    7.4   \n",
       "3                          B                                   11.3   \n",
       "4                          B                                   10.4   \n",
       "\n",
       "  2010-2011 PERFORMANCE GRADE  2010-2011 PROGRESS CATEGORY SCORE  \\\n",
       "0                          D                                18.0   \n",
       "1                          D                                35.1   \n",
       "2                          C                                31.1   \n",
       "3                          B                                18.5   \n",
       "4                          B                                29.0   \n",
       "\n",
       "  2010-2011 PROGRESS GRADE  2010-2011 ADDITIONAL CREDIT  \\\n",
       "0                       C                           0.5   \n",
       "1                       A                           0.5   \n",
       "2                       B                           2.0   \n",
       "3                       C                           2.5   \n",
       "4                       B                           1.5   \n",
       "\n",
       "  2009-10 PROGRESS REPORT GRADE  \n",
       "0                             C  \n",
       "1                             C  \n",
       "2                             A  \n",
       "3                             B  \n",
       "4                             B  "
      ]
     },
     "execution_count": 2,
     "metadata": {},
     "output_type": "execute_result"
    }
   ],
   "source": [
    "#use pandas to read CSV file\n",
    "import pandas as pd\n",
    "data = pd.read_csv(DFDATA + \"/yig9-9zum/1414245935/yig9-9zum\")\n",
    "df = pd.DataFrame(data)\n",
    "df.head()"
   ]
  },
  {
   "cell_type": "code",
   "execution_count": 3,
   "metadata": {
    "collapsed": false
   },
   "outputs": [
    {
     "data": {
      "text/html": [
       "<div>\n",
       "<table border=\"1\" class=\"dataframe\">\n",
       "  <thead>\n",
       "    <tr style=\"text-align: right;\">\n",
       "      <th></th>\n",
       "      <th>2010-2011 OVERALL SCORE</th>\n",
       "      <th>2010-2011 ENVIRONMENT CATEGORY SCORE</th>\n",
       "    </tr>\n",
       "  </thead>\n",
       "  <tbody>\n",
       "    <tr>\n",
       "      <th>0</th>\n",
       "      <td>27.0</td>\n",
       "      <td>6.4</td>\n",
       "    </tr>\n",
       "    <tr>\n",
       "      <th>1</th>\n",
       "      <td>48.7</td>\n",
       "      <td>7.8</td>\n",
       "    </tr>\n",
       "    <tr>\n",
       "      <th>2</th>\n",
       "      <td>48.2</td>\n",
       "      <td>7.7</td>\n",
       "    </tr>\n",
       "    <tr>\n",
       "      <th>3</th>\n",
       "      <td>39.8</td>\n",
       "      <td>7.5</td>\n",
       "    </tr>\n",
       "    <tr>\n",
       "      <th>4</th>\n",
       "      <td>49.0</td>\n",
       "      <td>8.1</td>\n",
       "    </tr>\n",
       "  </tbody>\n",
       "</table>\n",
       "</div>"
      ],
      "text/plain": [
       "   2010-2011 OVERALL SCORE  2010-2011 ENVIRONMENT CATEGORY SCORE\n",
       "0                     27.0                                   6.4\n",
       "1                     48.7                                   7.8\n",
       "2                     48.2                                   7.7\n",
       "3                     39.8                                   7.5\n",
       "4                     49.0                                   8.1"
      ]
     },
     "execution_count": 3,
     "metadata": {},
     "output_type": "execute_result"
    }
   ],
   "source": [
    "#use subset to eliminate columns until desired\n",
    "subset = df.loc[:,[\"2010-2011 OVERALL SCORE\",\"2010-2011 ENVIRONMENT CATEGORY SCORE\"]]\n",
    "subset.head()"
   ]
  },
  {
   "cell_type": "code",
   "execution_count": 4,
   "metadata": {
    "collapsed": false
   },
   "outputs": [
    {
     "data": {
      "text/plain": [
       "<matplotlib.text.Text at 0x7f46cd45b310>"
      ]
     },
     "execution_count": 4,
     "metadata": {},
     "output_type": "execute_result"
    },
    {
     "data": {
      "image/png": "[encoded data removed]",
      "text/plain": [
       "<matplotlib.figure.Figure at 0x7f46cf6f1c10>"
      ]
     },
     "metadata": {},
     "output_type": "display_data"
    }
   ],
   "source": [
    "#plot variables against each other in scatterplot\n",
    "import matplotlib.pyplot as plt\n",
    "%matplotlib inline\n",
    "plt.scatter(subset[\"2010-2011 OVERALL SCORE\"], subset[\"2010-2011 ENVIRONMENT CATEGORY SCORE\"])\n",
    "plt.xlabel(\"2010-2011 OVERALL SCORE\")\n",
    "plt.ylabel(\"2010-2011 ENVIRONMENT CATEGORY SCORE\")\n"
   ]
  },
  {
   "cell_type": "code",
   "execution_count": null,
   "metadata": {
    "collapsed": true
   },
   "outputs": [],
   "source": []
  }
 ],
 "metadata": {
  "kernelspec": {
   "display_name": "PUI2016_Python2",
   "language": "python",
   "name": "pui2016_python2"
  },
  "language_info": {
   "codemirror_mode": {
    "name": "ipython",
    "version": 2
   },
   "file_extension": ".py",
   "mimetype": "text/x-python",
   "name": "python",
   "nbconvert_exporter": "python",
   "pygments_lexer": "ipython2",
   "version": "2.7.12"
  }
 },
 "nbformat": 4,
 "nbformat_minor": 0
}
