{
 "cells": [
  {
   "cell_type": "markdown",
   "metadata": {},
   "source": [
    "# Assignment 2"
   ]
  },
  {
   "cell_type": "markdown",
   "metadata": {},
   "source": [
    "### Define idea and parameters of data analysis:"
   ]
  },
  {
   "cell_type": "markdown",
   "metadata": {},
   "source": [
    "Idea: does the trip distance of a citibike user vary with age?\n",
    "\n",
    "This analysis focuses on distance between start and end stations and how age impacts trip distance.\n",
    "\n",
    "\n",
    "Define young riders: y >= 1980 (millenials)\n",
    "\n",
    "Define total riders: 1951 <= x > 1980  (working population, not typically retired)\n",
    "\n",
    "Define long distance trips: L = trips > average distance for all trips (start to end station using latitude/longitude values in decimal degrees)"
   ]
  },
  {
   "cell_type": "markdown",
   "metadata": {},
   "source": [
    "### State Hypotheses:"
   ]
  },
  {
   "cell_type": "markdown",
   "metadata": {},
   "source": [
    "Null Hypothesis: \n",
    "\n",
    "The ratio of long distance trips by young riders to all distance trips by young riders is less than or equal to the ratio of long distance trips by the rest of the population to all distance trips by the rest of the population.\n",
    "\n",
    "$$Ly/Sy-Lx/Sx<=0$$"
   ]
  },
  {
   "cell_type": "markdown",
   "metadata": {},
   "source": [
    "Alternative Hypothesis:\n",
    "\n",
    "The ratio of long distance trips by young riders to all distance trips by young riders is greater than the ratio of long distance trips by the rest of the population to all distance trips by the rest of the population.\n",
    "\n",
    "$$Ly/Sy-Lx/Sx>0$$"
   ]
  },
  {
   "cell_type": "markdown",
   "metadata": {},
   "source": [
    "Significance level: 0.05"
   ]
  },
  {
   "cell_type": "markdown",
   "metadata": {},
   "source": [
    "## Set up the work for data-driven inference based on CitiBike data."
   ]
  },
  {
   "cell_type": "code",
   "execution_count": 4,
   "metadata": {
    "collapsed": false
   },
   "outputs": [
    {
     "data": {
      "text/html": [
       "<div>\n",
       "<table border=\"1\" class=\"dataframe\">\n",
       "  <thead>\n",
       "    <tr style=\"text-align: right;\">\n",
       "      <th></th>\n",
       "      <th>tripduration</th>\n",
       "      <th>starttime</th>\n",
       "      <th>stoptime</th>\n",
       "      <th>start station id</th>\n",
       "      <th>start station name</th>\n",
       "      <th>start station latitude</th>\n",
       "      <th>start station longitude</th>\n",
       "      <th>end station id</th>\n",
       "      <th>end station name</th>\n",
       "      <th>end station latitude</th>\n",
       "      <th>end station longitude</th>\n",
       "      <th>bikeid</th>\n",
       "      <th>usertype</th>\n",
       "      <th>birth year</th>\n",
       "      <th>gender</th>\n",
       "    </tr>\n",
       "  </thead>\n",
       "  <tbody>\n",
       "    <tr>\n",
       "      <th>0</th>\n",
       "      <td>1470</td>\n",
       "      <td>6/1/2016 00:00:18</td>\n",
       "      <td>6/1/2016 00:24:48</td>\n",
       "      <td>380</td>\n",
       "      <td>W 4 St &amp; 7 Ave S</td>\n",
       "      <td>40.734011</td>\n",
       "      <td>-74.002939</td>\n",
       "      <td>3236</td>\n",
       "      <td>W 42 St &amp; Dyer Ave</td>\n",
       "      <td>40.758985</td>\n",
       "      <td>-73.993800</td>\n",
       "      <td>19859</td>\n",
       "      <td>Subscriber</td>\n",
       "      <td>1972.0</td>\n",
       "      <td>1</td>\n",
       "    </tr>\n",
       "    <tr>\n",
       "      <th>1</th>\n",
       "      <td>229</td>\n",
       "      <td>6/1/2016 00:00:20</td>\n",
       "      <td>6/1/2016 00:04:09</td>\n",
       "      <td>3092</td>\n",
       "      <td>Berry St &amp; N 8 St</td>\n",
       "      <td>40.719009</td>\n",
       "      <td>-73.958525</td>\n",
       "      <td>3103</td>\n",
       "      <td>N 11 St &amp; Wythe Ave</td>\n",
       "      <td>40.721533</td>\n",
       "      <td>-73.957824</td>\n",
       "      <td>16233</td>\n",
       "      <td>Subscriber</td>\n",
       "      <td>1967.0</td>\n",
       "      <td>1</td>\n",
       "    </tr>\n",
       "    <tr>\n",
       "      <th>2</th>\n",
       "      <td>344</td>\n",
       "      <td>6/1/2016 00:00:21</td>\n",
       "      <td>6/1/2016 00:06:06</td>\n",
       "      <td>449</td>\n",
       "      <td>W 52 St &amp; 9 Ave</td>\n",
       "      <td>40.764618</td>\n",
       "      <td>-73.987895</td>\n",
       "      <td>469</td>\n",
       "      <td>Broadway &amp; W 53 St</td>\n",
       "      <td>40.763441</td>\n",
       "      <td>-73.982681</td>\n",
       "      <td>22397</td>\n",
       "      <td>Subscriber</td>\n",
       "      <td>1989.0</td>\n",
       "      <td>1</td>\n",
       "    </tr>\n",
       "    <tr>\n",
       "      <th>3</th>\n",
       "      <td>1120</td>\n",
       "      <td>6/1/2016 00:00:28</td>\n",
       "      <td>6/1/2016 00:19:09</td>\n",
       "      <td>522</td>\n",
       "      <td>E 51 St &amp; Lexington Ave</td>\n",
       "      <td>40.757148</td>\n",
       "      <td>-73.972078</td>\n",
       "      <td>401</td>\n",
       "      <td>Allen St &amp; Rivington St</td>\n",
       "      <td>40.720196</td>\n",
       "      <td>-73.989978</td>\n",
       "      <td>16231</td>\n",
       "      <td>Subscriber</td>\n",
       "      <td>1991.0</td>\n",
       "      <td>1</td>\n",
       "    </tr>\n",
       "    <tr>\n",
       "      <th>4</th>\n",
       "      <td>229</td>\n",
       "      <td>6/1/2016 00:00:53</td>\n",
       "      <td>6/1/2016 00:04:42</td>\n",
       "      <td>335</td>\n",
       "      <td>Washington Pl &amp; Broadway</td>\n",
       "      <td>40.729039</td>\n",
       "      <td>-73.994046</td>\n",
       "      <td>285</td>\n",
       "      <td>Broadway &amp; E 14 St</td>\n",
       "      <td>40.734546</td>\n",
       "      <td>-73.990741</td>\n",
       "      <td>15400</td>\n",
       "      <td>Subscriber</td>\n",
       "      <td>1989.0</td>\n",
       "      <td>1</td>\n",
       "    </tr>\n",
       "  </tbody>\n",
       "</table>\n",
       "</div>"
      ],
      "text/plain": [
       "   tripduration          starttime           stoptime  start station id  \\\n",
       "0          1470  6/1/2016 00:00:18  6/1/2016 00:24:48               380   \n",
       "1           229  6/1/2016 00:00:20  6/1/2016 00:04:09              3092   \n",
       "2           344  6/1/2016 00:00:21  6/1/2016 00:06:06               449   \n",
       "3          1120  6/1/2016 00:00:28  6/1/2016 00:19:09               522   \n",
       "4           229  6/1/2016 00:00:53  6/1/2016 00:04:42               335   \n",
       "\n",
       "         start station name  start station latitude  start station longitude  \\\n",
       "0          W 4 St & 7 Ave S               40.734011               -74.002939   \n",
       "1         Berry St & N 8 St               40.719009               -73.958525   \n",
       "2           W 52 St & 9 Ave               40.764618               -73.987895   \n",
       "3   E 51 St & Lexington Ave               40.757148               -73.972078   \n",
       "4  Washington Pl & Broadway               40.729039               -73.994046   \n",
       "\n",
       "   end station id         end station name  end station latitude  \\\n",
       "0            3236       W 42 St & Dyer Ave             40.758985   \n",
       "1            3103      N 11 St & Wythe Ave             40.721533   \n",
       "2             469       Broadway & W 53 St             40.763441   \n",
       "3             401  Allen St & Rivington St             40.720196   \n",
       "4             285       Broadway & E 14 St             40.734546   \n",
       "\n",
       "   end station longitude  bikeid    usertype  birth year  gender  \n",
       "0             -73.993800   19859  Subscriber      1972.0       1  \n",
       "1             -73.957824   16233  Subscriber      1967.0       1  \n",
       "2             -73.982681   22397  Subscriber      1989.0       1  \n",
       "3             -73.989978   16231  Subscriber      1991.0       1  \n",
       "4             -73.990741   15400  Subscriber      1989.0       1  "
      ]
     },
     "execution_count": 4,
     "metadata": {},
     "output_type": "execute_result"
    }
   ],
   "source": [
    "#import data to workspace\n",
    "\n",
    "#set working environment packages\n",
    "from zipfile import ZipFile\n",
    "from StringIO import StringIO\n",
    "import urllib2\n",
    "import pandas as pd\n",
    "\n",
    "#opening data into this notebook\n",
    "r = urllib2.urlopen('https://s3.amazonaws.com/tripdata/201606-citibike-tripdata.zip').read()\n",
    "z = ZipFile(StringIO(r))\n",
    "citibikedata = z.open('201606-citibike-tripdata.csv')\n",
    "data = pd.read_csv(citibikedata)\n",
    "data.head()\n"
   ]
  },
  {
   "cell_type": "markdown",
   "metadata": {},
   "source": [
    "## Begin data manipulation:\n",
    "\n",
    "Modify and add columns to eventually calculate distance."
   ]
  },
  {
   "cell_type": "code",
   "execution_count": 5,
   "metadata": {
    "collapsed": false
   },
   "outputs": [
    {
     "data": {
      "text/html": [
       "<div>\n",
       "<table border=\"1\" class=\"dataframe\">\n",
       "  <thead>\n",
       "    <tr style=\"text-align: right;\">\n",
       "      <th></th>\n",
       "      <th>tripduration</th>\n",
       "      <th>starttime</th>\n",
       "      <th>stoptime</th>\n",
       "      <th>start station id</th>\n",
       "      <th>start station name</th>\n",
       "      <th>start station latitude</th>\n",
       "      <th>start station longitude</th>\n",
       "      <th>end station id</th>\n",
       "      <th>end station name</th>\n",
       "      <th>end station latitude</th>\n",
       "      <th>end station longitude</th>\n",
       "      <th>bikeid</th>\n",
       "      <th>usertype</th>\n",
       "      <th>birth year</th>\n",
       "      <th>gender</th>\n",
       "      <th>start_location</th>\n",
       "      <th>stop_location</th>\n",
       "    </tr>\n",
       "  </thead>\n",
       "  <tbody>\n",
       "    <tr>\n",
       "      <th>0</th>\n",
       "      <td>1470</td>\n",
       "      <td>6/1/2016 00:00:18</td>\n",
       "      <td>6/1/2016 00:24:48</td>\n",
       "      <td>380</td>\n",
       "      <td>W 4 St &amp; 7 Ave S</td>\n",
       "      <td>40.734011</td>\n",
       "      <td>-74.002939</td>\n",
       "      <td>3236</td>\n",
       "      <td>W 42 St &amp; Dyer Ave</td>\n",
       "      <td>40.758985</td>\n",
       "      <td>-73.993800</td>\n",
       "      <td>19859</td>\n",
       "      <td>Subscriber</td>\n",
       "      <td>1972.0</td>\n",
       "      <td>1</td>\n",
       "      <td>(40.73401143, -74.00293877)</td>\n",
       "      <td>(40.758984814, -73.9937996864)</td>\n",
       "    </tr>\n",
       "    <tr>\n",
       "      <th>1</th>\n",
       "      <td>229</td>\n",
       "      <td>6/1/2016 00:00:20</td>\n",
       "      <td>6/1/2016 00:04:09</td>\n",
       "      <td>3092</td>\n",
       "      <td>Berry St &amp; N 8 St</td>\n",
       "      <td>40.719009</td>\n",
       "      <td>-73.958525</td>\n",
       "      <td>3103</td>\n",
       "      <td>N 11 St &amp; Wythe Ave</td>\n",
       "      <td>40.721533</td>\n",
       "      <td>-73.957824</td>\n",
       "      <td>16233</td>\n",
       "      <td>Subscriber</td>\n",
       "      <td>1967.0</td>\n",
       "      <td>1</td>\n",
       "      <td>(40.7190095, -73.95852515)</td>\n",
       "      <td>(40.72153267, -73.95782357)</td>\n",
       "    </tr>\n",
       "    <tr>\n",
       "      <th>2</th>\n",
       "      <td>344</td>\n",
       "      <td>6/1/2016 00:00:21</td>\n",
       "      <td>6/1/2016 00:06:06</td>\n",
       "      <td>449</td>\n",
       "      <td>W 52 St &amp; 9 Ave</td>\n",
       "      <td>40.764618</td>\n",
       "      <td>-73.987895</td>\n",
       "      <td>469</td>\n",
       "      <td>Broadway &amp; W 53 St</td>\n",
       "      <td>40.763441</td>\n",
       "      <td>-73.982681</td>\n",
       "      <td>22397</td>\n",
       "      <td>Subscriber</td>\n",
       "      <td>1989.0</td>\n",
       "      <td>1</td>\n",
       "      <td>(40.76461837, -73.98789473)</td>\n",
       "      <td>(40.76344058, -73.98268129)</td>\n",
       "    </tr>\n",
       "    <tr>\n",
       "      <th>3</th>\n",
       "      <td>1120</td>\n",
       "      <td>6/1/2016 00:00:28</td>\n",
       "      <td>6/1/2016 00:19:09</td>\n",
       "      <td>522</td>\n",
       "      <td>E 51 St &amp; Lexington Ave</td>\n",
       "      <td>40.757148</td>\n",
       "      <td>-73.972078</td>\n",
       "      <td>401</td>\n",
       "      <td>Allen St &amp; Rivington St</td>\n",
       "      <td>40.720196</td>\n",
       "      <td>-73.989978</td>\n",
       "      <td>16231</td>\n",
       "      <td>Subscriber</td>\n",
       "      <td>1991.0</td>\n",
       "      <td>1</td>\n",
       "      <td>(40.75714758, -73.97207836)</td>\n",
       "      <td>(40.72019576, -73.98997825)</td>\n",
       "    </tr>\n",
       "    <tr>\n",
       "      <th>4</th>\n",
       "      <td>229</td>\n",
       "      <td>6/1/2016 00:00:53</td>\n",
       "      <td>6/1/2016 00:04:42</td>\n",
       "      <td>335</td>\n",
       "      <td>Washington Pl &amp; Broadway</td>\n",
       "      <td>40.729039</td>\n",
       "      <td>-73.994046</td>\n",
       "      <td>285</td>\n",
       "      <td>Broadway &amp; E 14 St</td>\n",
       "      <td>40.734546</td>\n",
       "      <td>-73.990741</td>\n",
       "      <td>15400</td>\n",
       "      <td>Subscriber</td>\n",
       "      <td>1989.0</td>\n",
       "      <td>1</td>\n",
       "      <td>(40.72903917, -73.99404649)</td>\n",
       "      <td>(40.73454567, -73.99074142)</td>\n",
       "    </tr>\n",
       "  </tbody>\n",
       "</table>\n",
       "</div>"
      ],
      "text/plain": [
       "   tripduration          starttime           stoptime  start station id  \\\n",
       "0          1470  6/1/2016 00:00:18  6/1/2016 00:24:48               380   \n",
       "1           229  6/1/2016 00:00:20  6/1/2016 00:04:09              3092   \n",
       "2           344  6/1/2016 00:00:21  6/1/2016 00:06:06               449   \n",
       "3          1120  6/1/2016 00:00:28  6/1/2016 00:19:09               522   \n",
       "4           229  6/1/2016 00:00:53  6/1/2016 00:04:42               335   \n",
       "\n",
       "         start station name  start station latitude  start station longitude  \\\n",
       "0          W 4 St & 7 Ave S               40.734011               -74.002939   \n",
       "1         Berry St & N 8 St               40.719009               -73.958525   \n",
       "2           W 52 St & 9 Ave               40.764618               -73.987895   \n",
       "3   E 51 St & Lexington Ave               40.757148               -73.972078   \n",
       "4  Washington Pl & Broadway               40.729039               -73.994046   \n",
       "\n",
       "   end station id         end station name  end station latitude  \\\n",
       "0            3236       W 42 St & Dyer Ave             40.758985   \n",
       "1            3103      N 11 St & Wythe Ave             40.721533   \n",
       "2             469       Broadway & W 53 St             40.763441   \n",
       "3             401  Allen St & Rivington St             40.720196   \n",
       "4             285       Broadway & E 14 St             40.734546   \n",
       "\n",
       "   end station longitude  bikeid    usertype  birth year  gender  \\\n",
       "0             -73.993800   19859  Subscriber      1972.0       1   \n",
       "1             -73.957824   16233  Subscriber      1967.0       1   \n",
       "2             -73.982681   22397  Subscriber      1989.0       1   \n",
       "3             -73.989978   16231  Subscriber      1991.0       1   \n",
       "4             -73.990741   15400  Subscriber      1989.0       1   \n",
       "\n",
       "                start_location                   stop_location  \n",
       "0  (40.73401143, -74.00293877)  (40.758984814, -73.9937996864)  \n",
       "1   (40.7190095, -73.95852515)     (40.72153267, -73.95782357)  \n",
       "2  (40.76461837, -73.98789473)     (40.76344058, -73.98268129)  \n",
       "3  (40.75714758, -73.97207836)     (40.72019576, -73.98997825)  \n",
       "4  (40.72903917, -73.99404649)     (40.73454567, -73.99074142)  "
      ]
     },
     "execution_count": 5,
     "metadata": {},
     "output_type": "execute_result"
    }
   ],
   "source": [
    "#add new columns to begin calculating distance using decimal degrees\n",
    "#distance = (latitude, longitude of end station) subtracted from (latitude, longitude of start station)\n",
    "import pandas as pd\n",
    "data1 = pd.read_csv(\"201606-citibike-tripdata.csv\")\n",
    "data1.loc[:,\"start_location\"] = \"(\" + data1[\"start station latitude\"].map(str) + \",\" + \" \" + data1[\"start station longitude\"].map(str) + \")\"\n",
    "data1.head()\n",
    "\n",
    "data1.loc[:,\"stop_location\"] = \"(\" + data1[\"end station latitude\"].map(str) + \",\" + \" \" + data1[\"end station longitude\"].map(str) + \")\"\n",
    "data1.loc[:,\"start_location\"] = data1.loc[:,\"start_location\"].map(eval)\n",
    "data1.loc[:,\"stop_location\"] = data1.loc[:,\"stop_location\"].map(eval)\n",
    "data1.head()\n"
   ]
  },
  {
   "cell_type": "code",
   "execution_count": 6,
   "metadata": {
    "collapsed": false
   },
   "outputs": [
    {
     "data": {
      "text/plain": [
       "1240530"
      ]
     },
     "execution_count": 6,
     "metadata": {},
     "output_type": "execute_result"
    }
   ],
   "source": [
    "#find distance from decimal degree data using geopy\n",
    "import geopy\n",
    "from geopy.distance import vincenty\n",
    "newdata = data1[data1[\"birth year\"] > 1951]\n",
    "len(newdata)"
   ]
  },
  {
   "cell_type": "code",
   "execution_count": 7,
   "metadata": {
    "collapsed": false
   },
   "outputs": [
    {
     "name": "stderr",
     "output_type": "stream",
     "text": [
      "/anaconda/lib/python2.7/site-packages/ipykernel/__main__.py:5: SettingWithCopyWarning: \n",
      "A value is trying to be set on a copy of a slice from a DataFrame.\n",
      "Try using .loc[row_indexer,col_indexer] = value instead\n",
      "\n",
      "See the caveats in the documentation: http://pandas.pydata.org/pandas-docs/stable/indexing.html#indexing-view-versus-copy\n"
     ]
    }
   ],
   "source": [
    "#create new distance column and populate it\n",
    "def dist_newdata(df):\n",
    "    return vincenty(df[\"start_location\"],df[\"stop_location\"]).miles\n",
    "\n",
    "newdata[\"distance\"] = newdata.apply(dist_newdata, axis=1)"
   ]
  },
  {
   "cell_type": "code",
   "execution_count": 8,
   "metadata": {
    "collapsed": false
   },
   "outputs": [
    {
     "data": {
      "text/html": [
       "<div>\n",
       "<table border=\"1\" class=\"dataframe\">\n",
       "  <thead>\n",
       "    <tr style=\"text-align: right;\">\n",
       "      <th></th>\n",
       "      <th>tripduration</th>\n",
       "      <th>starttime</th>\n",
       "      <th>stoptime</th>\n",
       "      <th>start station id</th>\n",
       "      <th>start station name</th>\n",
       "      <th>start station latitude</th>\n",
       "      <th>start station longitude</th>\n",
       "      <th>end station id</th>\n",
       "      <th>end station name</th>\n",
       "      <th>end station latitude</th>\n",
       "      <th>end station longitude</th>\n",
       "      <th>bikeid</th>\n",
       "      <th>usertype</th>\n",
       "      <th>birth year</th>\n",
       "      <th>gender</th>\n",
       "      <th>start_location</th>\n",
       "      <th>stop_location</th>\n",
       "      <th>distance</th>\n",
       "    </tr>\n",
       "  </thead>\n",
       "  <tbody>\n",
       "    <tr>\n",
       "      <th>0</th>\n",
       "      <td>1470</td>\n",
       "      <td>6/1/2016 00:00:18</td>\n",
       "      <td>6/1/2016 00:24:48</td>\n",
       "      <td>380</td>\n",
       "      <td>W 4 St &amp; 7 Ave S</td>\n",
       "      <td>40.734011</td>\n",
       "      <td>-74.002939</td>\n",
       "      <td>3236</td>\n",
       "      <td>W 42 St &amp; Dyer Ave</td>\n",
       "      <td>40.758985</td>\n",
       "      <td>-73.993800</td>\n",
       "      <td>19859</td>\n",
       "      <td>Subscriber</td>\n",
       "      <td>1972.0</td>\n",
       "      <td>1</td>\n",
       "      <td>(40.73401143, -74.00293877)</td>\n",
       "      <td>(40.758984814, -73.9937996864)</td>\n",
       "      <td>1.788728</td>\n",
       "    </tr>\n",
       "    <tr>\n",
       "      <th>1</th>\n",
       "      <td>229</td>\n",
       "      <td>6/1/2016 00:00:20</td>\n",
       "      <td>6/1/2016 00:04:09</td>\n",
       "      <td>3092</td>\n",
       "      <td>Berry St &amp; N 8 St</td>\n",
       "      <td>40.719009</td>\n",
       "      <td>-73.958525</td>\n",
       "      <td>3103</td>\n",
       "      <td>N 11 St &amp; Wythe Ave</td>\n",
       "      <td>40.721533</td>\n",
       "      <td>-73.957824</td>\n",
       "      <td>16233</td>\n",
       "      <td>Subscriber</td>\n",
       "      <td>1967.0</td>\n",
       "      <td>1</td>\n",
       "      <td>(40.7190095, -73.95852515)</td>\n",
       "      <td>(40.72153267, -73.95782357)</td>\n",
       "      <td>0.177958</td>\n",
       "    </tr>\n",
       "    <tr>\n",
       "      <th>2</th>\n",
       "      <td>344</td>\n",
       "      <td>6/1/2016 00:00:21</td>\n",
       "      <td>6/1/2016 00:06:06</td>\n",
       "      <td>449</td>\n",
       "      <td>W 52 St &amp; 9 Ave</td>\n",
       "      <td>40.764618</td>\n",
       "      <td>-73.987895</td>\n",
       "      <td>469</td>\n",
       "      <td>Broadway &amp; W 53 St</td>\n",
       "      <td>40.763441</td>\n",
       "      <td>-73.982681</td>\n",
       "      <td>22397</td>\n",
       "      <td>Subscriber</td>\n",
       "      <td>1989.0</td>\n",
       "      <td>1</td>\n",
       "      <td>(40.76461837, -73.98789473)</td>\n",
       "      <td>(40.76344058, -73.98268129)</td>\n",
       "      <td>0.285343</td>\n",
       "    </tr>\n",
       "    <tr>\n",
       "      <th>3</th>\n",
       "      <td>1120</td>\n",
       "      <td>6/1/2016 00:00:28</td>\n",
       "      <td>6/1/2016 00:19:09</td>\n",
       "      <td>522</td>\n",
       "      <td>E 51 St &amp; Lexington Ave</td>\n",
       "      <td>40.757148</td>\n",
       "      <td>-73.972078</td>\n",
       "      <td>401</td>\n",
       "      <td>Allen St &amp; Rivington St</td>\n",
       "      <td>40.720196</td>\n",
       "      <td>-73.989978</td>\n",
       "      <td>16231</td>\n",
       "      <td>Subscriber</td>\n",
       "      <td>1991.0</td>\n",
       "      <td>1</td>\n",
       "      <td>(40.75714758, -73.97207836)</td>\n",
       "      <td>(40.72019576, -73.98997825)</td>\n",
       "      <td>2.717342</td>\n",
       "    </tr>\n",
       "    <tr>\n",
       "      <th>4</th>\n",
       "      <td>229</td>\n",
       "      <td>6/1/2016 00:00:53</td>\n",
       "      <td>6/1/2016 00:04:42</td>\n",
       "      <td>335</td>\n",
       "      <td>Washington Pl &amp; Broadway</td>\n",
       "      <td>40.729039</td>\n",
       "      <td>-73.994046</td>\n",
       "      <td>285</td>\n",
       "      <td>Broadway &amp; E 14 St</td>\n",
       "      <td>40.734546</td>\n",
       "      <td>-73.990741</td>\n",
       "      <td>15400</td>\n",
       "      <td>Subscriber</td>\n",
       "      <td>1989.0</td>\n",
       "      <td>1</td>\n",
       "      <td>(40.72903917, -73.99404649)</td>\n",
       "      <td>(40.73454567, -73.99074142)</td>\n",
       "      <td>0.417694</td>\n",
       "    </tr>\n",
       "  </tbody>\n",
       "</table>\n",
       "</div>"
      ],
      "text/plain": [
       "   tripduration          starttime           stoptime  start station id  \\\n",
       "0          1470  6/1/2016 00:00:18  6/1/2016 00:24:48               380   \n",
       "1           229  6/1/2016 00:00:20  6/1/2016 00:04:09              3092   \n",
       "2           344  6/1/2016 00:00:21  6/1/2016 00:06:06               449   \n",
       "3          1120  6/1/2016 00:00:28  6/1/2016 00:19:09               522   \n",
       "4           229  6/1/2016 00:00:53  6/1/2016 00:04:42               335   \n",
       "\n",
       "         start station name  start station latitude  start station longitude  \\\n",
       "0          W 4 St & 7 Ave S               40.734011               -74.002939   \n",
       "1         Berry St & N 8 St               40.719009               -73.958525   \n",
       "2           W 52 St & 9 Ave               40.764618               -73.987895   \n",
       "3   E 51 St & Lexington Ave               40.757148               -73.972078   \n",
       "4  Washington Pl & Broadway               40.729039               -73.994046   \n",
       "\n",
       "   end station id         end station name  end station latitude  \\\n",
       "0            3236       W 42 St & Dyer Ave             40.758985   \n",
       "1            3103      N 11 St & Wythe Ave             40.721533   \n",
       "2             469       Broadway & W 53 St             40.763441   \n",
       "3             401  Allen St & Rivington St             40.720196   \n",
       "4             285       Broadway & E 14 St             40.734546   \n",
       "\n",
       "   end station longitude  bikeid    usertype  birth year  gender  \\\n",
       "0             -73.993800   19859  Subscriber      1972.0       1   \n",
       "1             -73.957824   16233  Subscriber      1967.0       1   \n",
       "2             -73.982681   22397  Subscriber      1989.0       1   \n",
       "3             -73.989978   16231  Subscriber      1991.0       1   \n",
       "4             -73.990741   15400  Subscriber      1989.0       1   \n",
       "\n",
       "                start_location                   stop_location  distance  \n",
       "0  (40.73401143, -74.00293877)  (40.758984814, -73.9937996864)  1.788728  \n",
       "1   (40.7190095, -73.95852515)     (40.72153267, -73.95782357)  0.177958  \n",
       "2  (40.76461837, -73.98789473)     (40.76344058, -73.98268129)  0.285343  \n",
       "3  (40.75714758, -73.97207836)     (40.72019576, -73.98997825)  2.717342  \n",
       "4  (40.72903917, -73.99404649)     (40.73454567, -73.99074142)  0.417694  "
      ]
     },
     "execution_count": 8,
     "metadata": {},
     "output_type": "execute_result"
    }
   ],
   "source": [
    "#see if the function worked properly\n",
    "newdata.head()"
   ]
  },
  {
   "cell_type": "code",
   "execution_count": 9,
   "metadata": {
    "collapsed": false
   },
   "outputs": [
    {
     "data": {
      "text/plain": [
       "1.163136876223253"
      ]
     },
     "execution_count": 9,
     "metadata": {},
     "output_type": "execute_result"
    }
   ],
   "source": [
    "#explore new data column\n",
    "newdata[\"distance\"].mean()"
   ]
  },
  {
   "cell_type": "code",
   "execution_count": 10,
   "metadata": {
    "collapsed": true
   },
   "outputs": [],
   "source": [
    "#visualize data, distance less than 20 miles\n",
    "ddata = newdata[newdata[\"distance\"] < 20]"
   ]
  },
  {
   "cell_type": "code",
   "execution_count": 11,
   "metadata": {
    "collapsed": false
   },
   "outputs": [
    {
     "data": {
      "text/plain": [
       "<matplotlib.text.Text at 0x151309ed0>"
      ]
     },
     "execution_count": 11,
     "metadata": {},
     "output_type": "execute_result"
    },
    {
     "data": {
      "image/png": "[encoded data removed]",
      "text/plain": [
       "<matplotlib.figure.Figure at 0x1334c6ad0>"
      ]
     },
     "metadata": {},
     "output_type": "display_data"
    }
   ],
   "source": [
    "#plot birth year versus distance for exploration\n",
    "import matplotlib.pyplot as plt\n",
    "%matplotlib inline\n",
    "plt.scatter(ddata[\"birth year\"], ddata[\"distance\"])\n",
    "plt.ylabel('Distance (miles)')\n",
    "plt.xlabel('Birth Year')"
   ]
  },
  {
   "cell_type": "code",
   "execution_count": 12,
   "metadata": {
    "collapsed": true
   },
   "outputs": [],
   "source": [
    "#create new dataset of just 'long distance' trips greater than 3 miles from start to end station\n",
    "ddata_3 = newdata[newdata[\"distance\"] >3]"
   ]
  },
  {
   "cell_type": "code",
   "execution_count": 13,
   "metadata": {
    "collapsed": false
   },
   "outputs": [
    {
     "data": {
      "text/plain": [
       "<matplotlib.text.Text at 0x1512f7510>"
      ]
     },
     "execution_count": 13,
     "metadata": {},
     "output_type": "execute_result"
    },
    {
     "data": {
      "image/png": "[encoded data removed]",
      "text/plain": [
       "<matplotlib.figure.Figure at 0x12c9a97d0>"
      ]
     },
     "metadata": {},
     "output_type": "display_data"
    }
   ],
   "source": [
    "#group data by birth year of just ddata_3 dataset to see count distribution\n",
    "count_per_birth_year = ddata_3[\"distance\"].groupby(ddata_3[\"birth year\"]).count()\n",
    "plt.scatter(count_per_birth_year.index,count_per_birth_year.values)\n",
    "plt.ylabel('Number of Long Distance Trips')\n",
    "plt.xlabel('Birth Year')"
   ]
  },
  {
   "cell_type": "code",
   "execution_count": 14,
   "metadata": {
    "collapsed": false
   },
   "outputs": [],
   "source": [
    "#group data by birth year, all data \n",
    "count_per_birth_year_all = newdata[\"distance\"].groupby(newdata[\"birth year\"]).count()\n",
    "#normalize data\n",
    "count_per_birth_normalized = count_per_birth_year / count_per_birth_year_all"
   ]
  },
  {
   "cell_type": "code",
   "execution_count": 15,
   "metadata": {
    "collapsed": false
   },
   "outputs": [
    {
     "data": {
      "text/plain": [
       "<matplotlib.text.Text at 0x12c43b950>"
      ]
     },
     "execution_count": 15,
     "metadata": {},
     "output_type": "execute_result"
    },
    {
     "data": {
      "image/png": "[encoded data removed]",
      "text/plain": [
       "<matplotlib.figure.Figure at 0x12c920110>"
      ]
     },
     "metadata": {},
     "output_type": "display_data"
    }
   ],
   "source": [
    "#plot normalized data\n",
    "plt.scatter(count_per_birth_normalized.index,count_per_birth_normalized.values)\n",
    "plt.ylabel('Normalized Number of Long Distance Trips')\n",
    "plt.xlabel('Birth Year')"
   ]
  },
  {
   "cell_type": "code",
   "execution_count": 19,
   "metadata": {
    "collapsed": false
   },
   "outputs": [
    {
     "data": {
      "text/html": [
       "<div>\n",
       "<table border=\"1\" class=\"dataframe\">\n",
       "  <thead>\n",
       "    <tr style=\"text-align: right;\">\n",
       "      <th></th>\n",
       "      <th>start station latitude</th>\n",
       "      <th>start station longitude</th>\n",
       "      <th>end station latitude</th>\n",
       "      <th>end station longitude</th>\n",
       "      <th>birth year</th>\n",
       "      <th>distance</th>\n",
       "    </tr>\n",
       "  </thead>\n",
       "  <tbody>\n",
       "    <tr>\n",
       "      <th>0</th>\n",
       "      <td>40.734011</td>\n",
       "      <td>-74.002939</td>\n",
       "      <td>40.758985</td>\n",
       "      <td>-73.993800</td>\n",
       "      <td>1972.0</td>\n",
       "      <td>1.788728</td>\n",
       "    </tr>\n",
       "    <tr>\n",
       "      <th>1</th>\n",
       "      <td>40.719009</td>\n",
       "      <td>-73.958525</td>\n",
       "      <td>40.721533</td>\n",
       "      <td>-73.957824</td>\n",
       "      <td>1967.0</td>\n",
       "      <td>0.177958</td>\n",
       "    </tr>\n",
       "    <tr>\n",
       "      <th>2</th>\n",
       "      <td>40.764618</td>\n",
       "      <td>-73.987895</td>\n",
       "      <td>40.763441</td>\n",
       "      <td>-73.982681</td>\n",
       "      <td>1989.0</td>\n",
       "      <td>0.285343</td>\n",
       "    </tr>\n",
       "    <tr>\n",
       "      <th>3</th>\n",
       "      <td>40.757148</td>\n",
       "      <td>-73.972078</td>\n",
       "      <td>40.720196</td>\n",
       "      <td>-73.989978</td>\n",
       "      <td>1991.0</td>\n",
       "      <td>2.717342</td>\n",
       "    </tr>\n",
       "    <tr>\n",
       "      <th>4</th>\n",
       "      <td>40.729039</td>\n",
       "      <td>-73.994046</td>\n",
       "      <td>40.734546</td>\n",
       "      <td>-73.990741</td>\n",
       "      <td>1989.0</td>\n",
       "      <td>0.417694</td>\n",
       "    </tr>\n",
       "  </tbody>\n",
       "</table>\n",
       "</div>"
      ],
      "text/plain": [
       "   start station latitude  start station longitude  end station latitude  \\\n",
       "0               40.734011               -74.002939             40.758985   \n",
       "1               40.719009               -73.958525             40.721533   \n",
       "2               40.764618               -73.987895             40.763441   \n",
       "3               40.757148               -73.972078             40.720196   \n",
       "4               40.729039               -73.994046             40.734546   \n",
       "\n",
       "   end station longitude  birth year  distance  \n",
       "0             -73.993800      1972.0  1.788728  \n",
       "1             -73.957824      1967.0  0.177958  \n",
       "2             -73.982681      1989.0  0.285343  \n",
       "3             -73.989978      1991.0  2.717342  \n",
       "4             -73.990741      1989.0  0.417694  "
      ]
     },
     "execution_count": 19,
     "metadata": {},
     "output_type": "execute_result"
    }
   ],
   "source": [
    "#subset data to remove unneeded columns for data analysis next week\n",
    "subset_citibike = newdata.loc[:,[\"start station latitude\",\"start station longitude\",\"end station latitude\", \"end station longitude\", \"birth year\", \"distance\" ]]\n",
    "subset_citibike.head()"
   ]
  },
  {
   "cell_type": "code",
   "execution_count": 47,
   "metadata": {
    "collapsed": true
   },
   "outputs": [],
   "source": [
    "#export data to csv\n",
    "subset_citibike.to_csv(\"citibike_clean.csv\")"
   ]
  },
  {
   "cell_type": "code",
   "execution_count": 20,
   "metadata": {
    "collapsed": false
   },
   "outputs": [
    {
     "data": {
      "text/html": [
       "<div>\n",
       "<table border=\"1\" class=\"dataframe\">\n",
       "  <thead>\n",
       "    <tr style=\"text-align: right;\">\n",
       "      <th></th>\n",
       "      <th>start station latitude</th>\n",
       "      <th>start station longitude</th>\n",
       "      <th>end station latitude</th>\n",
       "      <th>end station longitude</th>\n",
       "      <th>birth year</th>\n",
       "      <th>distance</th>\n",
       "    </tr>\n",
       "  </thead>\n",
       "  <tbody>\n",
       "    <tr>\n",
       "      <th>2</th>\n",
       "      <td>40.764618</td>\n",
       "      <td>-73.987895</td>\n",
       "      <td>40.763441</td>\n",
       "      <td>-73.982681</td>\n",
       "      <td>1989.0</td>\n",
       "      <td>0.285343</td>\n",
       "    </tr>\n",
       "    <tr>\n",
       "      <th>3</th>\n",
       "      <td>40.757148</td>\n",
       "      <td>-73.972078</td>\n",
       "      <td>40.720196</td>\n",
       "      <td>-73.989978</td>\n",
       "      <td>1991.0</td>\n",
       "      <td>2.717342</td>\n",
       "    </tr>\n",
       "    <tr>\n",
       "      <th>4</th>\n",
       "      <td>40.729039</td>\n",
       "      <td>-73.994046</td>\n",
       "      <td>40.734546</td>\n",
       "      <td>-73.990741</td>\n",
       "      <td>1989.0</td>\n",
       "      <td>0.417694</td>\n",
       "    </tr>\n",
       "    <tr>\n",
       "      <th>6</th>\n",
       "      <td>40.752996</td>\n",
       "      <td>-73.987216</td>\n",
       "      <td>40.714948</td>\n",
       "      <td>-74.002345</td>\n",
       "      <td>1986.0</td>\n",
       "      <td>2.742892</td>\n",
       "    </tr>\n",
       "    <tr>\n",
       "      <th>7</th>\n",
       "      <td>40.750200</td>\n",
       "      <td>-73.990931</td>\n",
       "      <td>40.732233</td>\n",
       "      <td>-73.988900</td>\n",
       "      <td>1986.0</td>\n",
       "      <td>1.244361</td>\n",
       "    </tr>\n",
       "  </tbody>\n",
       "</table>\n",
       "</div>"
      ],
      "text/plain": [
       "   start station latitude  start station longitude  end station latitude  \\\n",
       "2               40.764618               -73.987895             40.763441   \n",
       "3               40.757148               -73.972078             40.720196   \n",
       "4               40.729039               -73.994046             40.734546   \n",
       "6               40.752996               -73.987216             40.714948   \n",
       "7               40.750200               -73.990931             40.732233   \n",
       "\n",
       "   end station longitude  birth year  distance  \n",
       "2             -73.982681      1989.0  0.285343  \n",
       "3             -73.989978      1991.0  2.717342  \n",
       "4             -73.990741      1989.0  0.417694  \n",
       "6             -74.002345      1986.0  2.742892  \n",
       "7             -73.988900      1986.0  1.244361  "
      ]
     },
     "execution_count": 20,
     "metadata": {},
     "output_type": "execute_result"
    }
   ],
   "source": [
    "#define dataset of just millenials\n",
    "mill = subset_citibike[subset_citibike[\"birth year\"] >= 1980]\n",
    "mill.head()"
   ]
  },
  {
   "cell_type": "markdown",
   "metadata": {
    "collapsed": true
   },
   "source": [
    "## Visualize data for next week's analysis:"
   ]
  },
  {
   "cell_type": "code",
   "execution_count": 24,
   "metadata": {
    "collapsed": false
   },
   "outputs": [
    {
     "name": "stdout",
     "output_type": "stream",
     "text": [
      "Populating the interactive namespace from numpy and matplotlib\n"
     ]
    },
    {
     "data": {
      "image/png": "[encoded data removed]",
      "text/plain": [
       "<matplotlib.figure.Figure at 0x117b43bd0>"
      ]
     },
     "metadata": {},
     "output_type": "display_data"
    },
    {
     "data": {
      "image/png": "[encoded data removed]",
      "text/plain": [
       "<matplotlib.figure.Figure at 0x1186f2a10>"
      ]
     },
     "metadata": {},
     "output_type": "display_data"
    }
   ],
   "source": [
    "import numpy as np\n",
    "import matplotlib.pylab as pl\n",
    "%pylab inline\n",
    "\n",
    "avg_dis = newdata.distance.mean()\n",
    "\n",
    "def plot_vs(m,group):\n",
    "    \n",
    "    fig=pl.figure(figsize(15,10)).add_subplot(111)\n",
    "    counts_all = m[\"birth year\"][m.distance <= avg_dis].groupby(m[\"birth year\"]).count()\n",
    "    norm_all = 1\n",
    "    error_all = np.sqrt(counts_all)\n",
    "    ax=((counts_all) / norm_all).plot(kind=\"bar\",color='magenta',  yerr=[\n",
    "                ((error_all) / norm_all, (error_all) / norm_all)], label='All Commuters')\n",
    "\n",
    "\n",
    "    counts_l = m[\"birth year\"][m.distance > avg_dis].groupby(m[\"birth year\"]).count()\n",
    "    norm_l = 1\n",
    "    error_l=np.sqrt(counts_l)\n",
    "    ((counts_l) / norm_l).plot(kind=\"bar\", alpha=0.5, yerr=[((error_l) / norm_l, (error_l) / norm_l)], label='Long Distance Commuters')\n",
    "    ax.set_ylabel (\"Number of Rides\", fontsize = 18)\n",
    "    ax.set_ylim([0, 35000])\n",
    "    ax.set_xlabel (\"birth year\", fontsize = 18)\n",
    "    pl.legend(['All Commuters','Long Distance Commuters'],fontsize=18)\n",
    "    pl.title(\"Number of \" + group + \" Riders\", fontsize = 20)\n",
    "    pl.grid()\n",
    "    pl.show()\n",
    "    return counts_all,counts_l\n",
    "m_all, m_long = plot_vs(mill,\"Millennials\")\n",
    "o_all, o_long = plot_vs(newdata,\"All Riders\")"
   ]
  },
  {
   "cell_type": "markdown",
   "metadata": {},
   "source": [
    "### Plot of Long Distance Trips, by group:"
   ]
  },
  {
   "cell_type": "code",
   "execution_count": 28,
   "metadata": {
    "collapsed": false
   },
   "outputs": [
    {
     "data": {
      "image/png": "[encoded data removed]",
      "text/plain": [
       "<matplotlib.figure.Figure at 0x1179ae750>"
      ]
     },
     "metadata": {},
     "output_type": "display_data"
    }
   ],
   "source": [
    "m_percentage = m_long/(m_long+m_all) * 100\n",
    "o_percentage = o_long/(o_long+o_all) * 100\n",
    "\n",
    "fig=pl.figure(figsize(10,5))\n",
    "ax = fig.add_subplot(111)\n",
    "ax.plot(m_percentage.index,m_percentage.values,'o',color = \"green\", alpha =0.8)\n",
    "ax.plot(o_percentage.index,o_percentage.values,'o')\n",
    "pl.plot([1979.5,1979.5],[25,45],'--',color = 'grey',lw=2)\n",
    "pl.plot([1950,2000],[33,39],color = 'magenta')\n",
    "ax.set_ylabel(\"Percentage of Rides\", fontsize=18)\n",
    "ax.set_xlabel(\"Birth Year\", fontsize=18)\n",
    "\n",
    "pl.text(1985,42,r'Millenials', color='green', size=20)\n",
    "pl.text(1955,42,r'All Riders', color='blue', size=20)\n",
    "pl.title(\"Long Distance Trips Percentage Within Each Group\", size=18)\n",
    "pl.show()"
   ]
  },
  {
   "cell_type": "code",
   "execution_count": null,
   "metadata": {
    "collapsed": true
   },
   "outputs": [],
   "source": []
  }
 ],
 "metadata": {
  "anaconda-cloud": {},
  "kernelspec": {
   "display_name": "Python [Root]",
   "language": "python",
   "name": "Python [Root]"
  },
  "language_info": {
   "codemirror_mode": {
    "name": "ipython",
    "version": 2
   },
   "file_extension": ".py",
   "mimetype": "text/x-python",
   "name": "python",
   "nbconvert_exporter": "python",
   "pygments_lexer": "ipython2",
   "version": "2.7.12"
  }
 },
 "nbformat": 4,
 "nbformat_minor": 0
}
