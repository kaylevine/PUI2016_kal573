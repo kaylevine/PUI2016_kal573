{
 "cells": [
  {
   "cell_type": "markdown",
   "metadata": {},
   "source": [
    "# Assignment 4, Homework 4\n",
    "\n",
    "### Set work environment and import data into this notebook:"
   ]
  },
  {
   "cell_type": "code",
   "execution_count": 1,
   "metadata": {
    "collapsed": false
   },
   "outputs": [
    {
     "name": "stdout",
     "output_type": "stream",
     "text": [
      "Populating the interactive namespace from numpy and matplotlib\n"
     ]
    },
    {
     "name": "stderr",
     "output_type": "stream",
     "text": [
      "/opt/rh/anaconda/root/lib/python2.7/site-packages/pandas/computation/__init__.py:19: UserWarning: The installed version of numexpr 2.4.4 is not supported in pandas and will be not be used\n",
      "\n",
      "  UserWarning)\n"
     ]
    },
    {
     "data": {
      "text/html": [
       "<div>\n",
       "<table border=\"1\" class=\"dataframe\">\n",
       "  <thead>\n",
       "    <tr style=\"text-align: right;\">\n",
       "      <th></th>\n",
       "      <th>tripduration</th>\n",
       "      <th>starttime</th>\n",
       "      <th>stoptime</th>\n",
       "      <th>start station id</th>\n",
       "      <th>start station name</th>\n",
       "      <th>start station latitude</th>\n",
       "      <th>start station longitude</th>\n",
       "      <th>end station id</th>\n",
       "      <th>end station name</th>\n",
       "      <th>end station latitude</th>\n",
       "      <th>end station longitude</th>\n",
       "      <th>bikeid</th>\n",
       "      <th>usertype</th>\n",
       "      <th>birth year</th>\n",
       "      <th>gender</th>\n",
       "    </tr>\n",
       "  </thead>\n",
       "  <tbody>\n",
       "    <tr>\n",
       "      <th>0</th>\n",
       "      <td>1470</td>\n",
       "      <td>6/1/2016 00:00:18</td>\n",
       "      <td>6/1/2016 00:24:48</td>\n",
       "      <td>380</td>\n",
       "      <td>W 4 St &amp; 7 Ave S</td>\n",
       "      <td>40.734011</td>\n",
       "      <td>-74.002939</td>\n",
       "      <td>3236</td>\n",
       "      <td>W 42 St &amp; Dyer Ave</td>\n",
       "      <td>40.758985</td>\n",
       "      <td>-73.993800</td>\n",
       "      <td>19859</td>\n",
       "      <td>Subscriber</td>\n",
       "      <td>1972.0</td>\n",
       "      <td>1</td>\n",
       "    </tr>\n",
       "    <tr>\n",
       "      <th>1</th>\n",
       "      <td>229</td>\n",
       "      <td>6/1/2016 00:00:20</td>\n",
       "      <td>6/1/2016 00:04:09</td>\n",
       "      <td>3092</td>\n",
       "      <td>Berry St &amp; N 8 St</td>\n",
       "      <td>40.719009</td>\n",
       "      <td>-73.958525</td>\n",
       "      <td>3103</td>\n",
       "      <td>N 11 St &amp; Wythe Ave</td>\n",
       "      <td>40.721533</td>\n",
       "      <td>-73.957824</td>\n",
       "      <td>16233</td>\n",
       "      <td>Subscriber</td>\n",
       "      <td>1967.0</td>\n",
       "      <td>1</td>\n",
       "    </tr>\n",
       "    <tr>\n",
       "      <th>2</th>\n",
       "      <td>344</td>\n",
       "      <td>6/1/2016 00:00:21</td>\n",
       "      <td>6/1/2016 00:06:06</td>\n",
       "      <td>449</td>\n",
       "      <td>W 52 St &amp; 9 Ave</td>\n",
       "      <td>40.764618</td>\n",
       "      <td>-73.987895</td>\n",
       "      <td>469</td>\n",
       "      <td>Broadway &amp; W 53 St</td>\n",
       "      <td>40.763441</td>\n",
       "      <td>-73.982681</td>\n",
       "      <td>22397</td>\n",
       "      <td>Subscriber</td>\n",
       "      <td>1989.0</td>\n",
       "      <td>1</td>\n",
       "    </tr>\n",
       "    <tr>\n",
       "      <th>3</th>\n",
       "      <td>1120</td>\n",
       "      <td>6/1/2016 00:00:28</td>\n",
       "      <td>6/1/2016 00:19:09</td>\n",
       "      <td>522</td>\n",
       "      <td>E 51 St &amp; Lexington Ave</td>\n",
       "      <td>40.757148</td>\n",
       "      <td>-73.972078</td>\n",
       "      <td>401</td>\n",
       "      <td>Allen St &amp; Rivington St</td>\n",
       "      <td>40.720196</td>\n",
       "      <td>-73.989978</td>\n",
       "      <td>16231</td>\n",
       "      <td>Subscriber</td>\n",
       "      <td>1991.0</td>\n",
       "      <td>1</td>\n",
       "    </tr>\n",
       "    <tr>\n",
       "      <th>4</th>\n",
       "      <td>229</td>\n",
       "      <td>6/1/2016 00:00:53</td>\n",
       "      <td>6/1/2016 00:04:42</td>\n",
       "      <td>335</td>\n",
       "      <td>Washington Pl &amp; Broadway</td>\n",
       "      <td>40.729039</td>\n",
       "      <td>-73.994046</td>\n",
       "      <td>285</td>\n",
       "      <td>Broadway &amp; E 14 St</td>\n",
       "      <td>40.734546</td>\n",
       "      <td>-73.990741</td>\n",
       "      <td>15400</td>\n",
       "      <td>Subscriber</td>\n",
       "      <td>1989.0</td>\n",
       "      <td>1</td>\n",
       "    </tr>\n",
       "  </tbody>\n",
       "</table>\n",
       "</div>"
      ],
      "text/plain": [
       "   tripduration          starttime           stoptime  start station id  \\\n",
       "0          1470  6/1/2016 00:00:18  6/1/2016 00:24:48               380   \n",
       "1           229  6/1/2016 00:00:20  6/1/2016 00:04:09              3092   \n",
       "2           344  6/1/2016 00:00:21  6/1/2016 00:06:06               449   \n",
       "3          1120  6/1/2016 00:00:28  6/1/2016 00:19:09               522   \n",
       "4           229  6/1/2016 00:00:53  6/1/2016 00:04:42               335   \n",
       "\n",
       "         start station name  start station latitude  start station longitude  \\\n",
       "0          W 4 St & 7 Ave S               40.734011               -74.002939   \n",
       "1         Berry St & N 8 St               40.719009               -73.958525   \n",
       "2           W 52 St & 9 Ave               40.764618               -73.987895   \n",
       "3   E 51 St & Lexington Ave               40.757148               -73.972078   \n",
       "4  Washington Pl & Broadway               40.729039               -73.994046   \n",
       "\n",
       "   end station id         end station name  end station latitude  \\\n",
       "0            3236       W 42 St & Dyer Ave             40.758985   \n",
       "1            3103      N 11 St & Wythe Ave             40.721533   \n",
       "2             469       Broadway & W 53 St             40.763441   \n",
       "3             401  Allen St & Rivington St             40.720196   \n",
       "4             285       Broadway & E 14 St             40.734546   \n",
       "\n",
       "   end station longitude  bikeid    usertype  birth year  gender  \n",
       "0             -73.993800   19859  Subscriber      1972.0       1  \n",
       "1             -73.957824   16233  Subscriber      1967.0       1  \n",
       "2             -73.982681   22397  Subscriber      1989.0       1  \n",
       "3             -73.989978   16231  Subscriber      1991.0       1  \n",
       "4             -73.990741   15400  Subscriber      1989.0       1  "
      ]
     },
     "execution_count": 1,
     "metadata": {},
     "output_type": "execute_result"
    }
   ],
   "source": [
    "import pylab as pl\n",
    "import numpy as np\n",
    "%pylab inline\n",
    "\n",
    "import os\n",
    "import json\n",
    "\n",
    "from zipfile import ZipFile\n",
    "from StringIO import StringIO\n",
    "import urllib2\n",
    "import pandas as pd\n",
    "\n",
    "#opening file into this notebook\n",
    "r = urllib2.urlopen('https://s3.amazonaws.com/tripdata/201606-citibike-tripdata.zip').read()\n",
    "z = ZipFile(StringIO(r))\n",
    "citibikedata = z.open('201606-citibike-tripdata.csv')\n",
    "data = pd.read_csv(citibikedata)\n",
    "data.head()"
   ]
  },
  {
   "cell_type": "markdown",
   "metadata": {},
   "source": [
    "### Manipulate dataset for this project:"
   ]
  },
  {
   "cell_type": "code",
   "execution_count": 4,
   "metadata": {
    "collapsed": false
   },
   "outputs": [
    {
     "data": {
      "text/html": [
       "<div>\n",
       "<table border=\"1\" class=\"dataframe\">\n",
       "  <thead>\n",
       "    <tr style=\"text-align: right;\">\n",
       "      <th></th>\n",
       "      <th>tripduration</th>\n",
       "      <th>starttime</th>\n",
       "      <th>stoptime</th>\n",
       "      <th>start station id</th>\n",
       "      <th>start station name</th>\n",
       "      <th>start station latitude</th>\n",
       "      <th>start station longitude</th>\n",
       "      <th>end station id</th>\n",
       "      <th>end station name</th>\n",
       "      <th>end station latitude</th>\n",
       "      <th>end station longitude</th>\n",
       "      <th>bikeid</th>\n",
       "      <th>usertype</th>\n",
       "      <th>birth year</th>\n",
       "      <th>gender</th>\n",
       "      <th>ageM</th>\n",
       "      <th>ageF</th>\n",
       "    </tr>\n",
       "  </thead>\n",
       "  <tbody>\n",
       "    <tr>\n",
       "      <th>0</th>\n",
       "      <td>1470</td>\n",
       "      <td>6/1/2016 00:00:18</td>\n",
       "      <td>6/1/2016 00:24:48</td>\n",
       "      <td>380</td>\n",
       "      <td>W 4 St &amp; 7 Ave S</td>\n",
       "      <td>40.734011</td>\n",
       "      <td>-74.002939</td>\n",
       "      <td>3236</td>\n",
       "      <td>W 42 St &amp; Dyer Ave</td>\n",
       "      <td>40.758985</td>\n",
       "      <td>-73.993800</td>\n",
       "      <td>19859</td>\n",
       "      <td>Subscriber</td>\n",
       "      <td>1972.0</td>\n",
       "      <td>1</td>\n",
       "      <td>44.0</td>\n",
       "      <td>NaN</td>\n",
       "    </tr>\n",
       "    <tr>\n",
       "      <th>1</th>\n",
       "      <td>229</td>\n",
       "      <td>6/1/2016 00:00:20</td>\n",
       "      <td>6/1/2016 00:04:09</td>\n",
       "      <td>3092</td>\n",
       "      <td>Berry St &amp; N 8 St</td>\n",
       "      <td>40.719009</td>\n",
       "      <td>-73.958525</td>\n",
       "      <td>3103</td>\n",
       "      <td>N 11 St &amp; Wythe Ave</td>\n",
       "      <td>40.721533</td>\n",
       "      <td>-73.957824</td>\n",
       "      <td>16233</td>\n",
       "      <td>Subscriber</td>\n",
       "      <td>1967.0</td>\n",
       "      <td>1</td>\n",
       "      <td>49.0</td>\n",
       "      <td>NaN</td>\n",
       "    </tr>\n",
       "    <tr>\n",
       "      <th>2</th>\n",
       "      <td>344</td>\n",
       "      <td>6/1/2016 00:00:21</td>\n",
       "      <td>6/1/2016 00:06:06</td>\n",
       "      <td>449</td>\n",
       "      <td>W 52 St &amp; 9 Ave</td>\n",
       "      <td>40.764618</td>\n",
       "      <td>-73.987895</td>\n",
       "      <td>469</td>\n",
       "      <td>Broadway &amp; W 53 St</td>\n",
       "      <td>40.763441</td>\n",
       "      <td>-73.982681</td>\n",
       "      <td>22397</td>\n",
       "      <td>Subscriber</td>\n",
       "      <td>1989.0</td>\n",
       "      <td>1</td>\n",
       "      <td>27.0</td>\n",
       "      <td>NaN</td>\n",
       "    </tr>\n",
       "    <tr>\n",
       "      <th>3</th>\n",
       "      <td>1120</td>\n",
       "      <td>6/1/2016 00:00:28</td>\n",
       "      <td>6/1/2016 00:19:09</td>\n",
       "      <td>522</td>\n",
       "      <td>E 51 St &amp; Lexington Ave</td>\n",
       "      <td>40.757148</td>\n",
       "      <td>-73.972078</td>\n",
       "      <td>401</td>\n",
       "      <td>Allen St &amp; Rivington St</td>\n",
       "      <td>40.720196</td>\n",
       "      <td>-73.989978</td>\n",
       "      <td>16231</td>\n",
       "      <td>Subscriber</td>\n",
       "      <td>1991.0</td>\n",
       "      <td>1</td>\n",
       "      <td>25.0</td>\n",
       "      <td>NaN</td>\n",
       "    </tr>\n",
       "    <tr>\n",
       "      <th>4</th>\n",
       "      <td>229</td>\n",
       "      <td>6/1/2016 00:00:53</td>\n",
       "      <td>6/1/2016 00:04:42</td>\n",
       "      <td>335</td>\n",
       "      <td>Washington Pl &amp; Broadway</td>\n",
       "      <td>40.729039</td>\n",
       "      <td>-73.994046</td>\n",
       "      <td>285</td>\n",
       "      <td>Broadway &amp; E 14 St</td>\n",
       "      <td>40.734546</td>\n",
       "      <td>-73.990741</td>\n",
       "      <td>15400</td>\n",
       "      <td>Subscriber</td>\n",
       "      <td>1989.0</td>\n",
       "      <td>1</td>\n",
       "      <td>27.0</td>\n",
       "      <td>NaN</td>\n",
       "    </tr>\n",
       "  </tbody>\n",
       "</table>\n",
       "</div>"
      ],
      "text/plain": [
       "   tripduration          starttime           stoptime  start station id  \\\n",
       "0          1470  6/1/2016 00:00:18  6/1/2016 00:24:48               380   \n",
       "1           229  6/1/2016 00:00:20  6/1/2016 00:04:09              3092   \n",
       "2           344  6/1/2016 00:00:21  6/1/2016 00:06:06               449   \n",
       "3          1120  6/1/2016 00:00:28  6/1/2016 00:19:09               522   \n",
       "4           229  6/1/2016 00:00:53  6/1/2016 00:04:42               335   \n",
       "\n",
       "         start station name  start station latitude  start station longitude  \\\n",
       "0          W 4 St & 7 Ave S               40.734011               -74.002939   \n",
       "1         Berry St & N 8 St               40.719009               -73.958525   \n",
       "2           W 52 St & 9 Ave               40.764618               -73.987895   \n",
       "3   E 51 St & Lexington Ave               40.757148               -73.972078   \n",
       "4  Washington Pl & Broadway               40.729039               -73.994046   \n",
       "\n",
       "   end station id         end station name  end station latitude  \\\n",
       "0            3236       W 42 St & Dyer Ave             40.758985   \n",
       "1            3103      N 11 St & Wythe Ave             40.721533   \n",
       "2             469       Broadway & W 53 St             40.763441   \n",
       "3             401  Allen St & Rivington St             40.720196   \n",
       "4             285       Broadway & E 14 St             40.734546   \n",
       "\n",
       "   end station longitude  bikeid    usertype  birth year  gender  ageM  ageF  \n",
       "0             -73.993800   19859  Subscriber      1972.0       1  44.0   NaN  \n",
       "1             -73.957824   16233  Subscriber      1967.0       1  49.0   NaN  \n",
       "2             -73.982681   22397  Subscriber      1989.0       1  27.0   NaN  \n",
       "3             -73.989978   16231  Subscriber      1991.0       1  25.0   NaN  \n",
       "4             -73.990741   15400  Subscriber      1989.0       1  27.0   NaN  "
      ]
     },
     "execution_count": 4,
     "metadata": {},
     "output_type": "execute_result"
    }
   ],
   "source": [
    "# create new columns:\n",
    "##populated with age (2016 minus birth year)\n",
    "##code gender into numbers (1 = male, 2 = female)\n",
    "\n",
    "data['ageM'] = 2016 - data['birth year'][(data['usertype'] == 'Subscriber') & (data['gender'] == 1)]\n",
    "data['ageF'] = 2016 - data['birth year'][(data['usertype'] == 'Subscriber') & (data['gender'] == 2)]\n",
    "data.head()"
   ]
  },
  {
   "cell_type": "code",
   "execution_count": 10,
   "metadata": {
    "collapsed": false
   },
   "outputs": [
    {
     "name": "stderr",
     "output_type": "stream",
     "text": [
      "/opt/rh/anaconda/root/lib/python2.7/site-packages/numpy/lib/function_base.py:3403: RuntimeWarning: Invalid value encountered in median\n",
      "  RuntimeWarning)\n"
     ]
    },
    {
     "data": {
      "text/html": [
       "<div>\n",
       "<table border=\"1\" class=\"dataframe\">\n",
       "  <thead>\n",
       "    <tr style=\"text-align: right;\">\n",
       "      <th></th>\n",
       "      <th>tripduration</th>\n",
       "      <th>start station id</th>\n",
       "      <th>start station latitude</th>\n",
       "      <th>start station longitude</th>\n",
       "      <th>end station id</th>\n",
       "      <th>end station latitude</th>\n",
       "      <th>end station longitude</th>\n",
       "      <th>bikeid</th>\n",
       "      <th>birth year</th>\n",
       "      <th>gender</th>\n",
       "      <th>ageM</th>\n",
       "      <th>ageF</th>\n",
       "    </tr>\n",
       "  </thead>\n",
       "  <tbody>\n",
       "    <tr>\n",
       "      <th>count</th>\n",
       "      <td>1.460318e+06</td>\n",
       "      <td>1.460318e+06</td>\n",
       "      <td>1.460318e+06</td>\n",
       "      <td>1.460318e+06</td>\n",
       "      <td>1.460318e+06</td>\n",
       "      <td>1.460318e+06</td>\n",
       "      <td>1.460318e+06</td>\n",
       "      <td>1.460318e+06</td>\n",
       "      <td>1.265112e+06</td>\n",
       "      <td>1.460318e+06</td>\n",
       "      <td>947425.000000</td>\n",
       "      <td>314575.000000</td>\n",
       "    </tr>\n",
       "    <tr>\n",
       "      <th>mean</th>\n",
       "      <td>9.897580e+02</td>\n",
       "      <td>9.562393e+02</td>\n",
       "      <td>4.073736e+01</td>\n",
       "      <td>-7.398694e+01</td>\n",
       "      <td>9.457872e+02</td>\n",
       "      <td>4.073696e+01</td>\n",
       "      <td>-7.398677e+01</td>\n",
       "      <td>2.051037e+04</td>\n",
       "      <td>1.977659e+03</td>\n",
       "      <td>1.079696e+00</td>\n",
       "      <td>38.743638</td>\n",
       "      <td>37.081971</td>\n",
       "    </tr>\n",
       "    <tr>\n",
       "      <th>std</th>\n",
       "      <td>7.589179e+03</td>\n",
       "      <td>1.101579e+03</td>\n",
       "      <td>2.277217e-02</td>\n",
       "      <td>1.641347e-02</td>\n",
       "      <td>1.093657e+03</td>\n",
       "      <td>7.874038e-02</td>\n",
       "      <td>1.378920e-01</td>\n",
       "      <td>3.454210e+03</td>\n",
       "      <td>1.157717e+01</td>\n",
       "      <td>5.872326e-01</td>\n",
       "      <td>11.606224</td>\n",
       "      <td>11.291810</td>\n",
       "    </tr>\n",
       "    <tr>\n",
       "      <th>min</th>\n",
       "      <td>6.100000e+01</td>\n",
       "      <td>7.200000e+01</td>\n",
       "      <td>4.067891e+01</td>\n",
       "      <td>-7.401713e+01</td>\n",
       "      <td>7.200000e+01</td>\n",
       "      <td>0.000000e+00</td>\n",
       "      <td>-7.408364e+01</td>\n",
       "      <td>1.452900e+04</td>\n",
       "      <td>1.885000e+03</td>\n",
       "      <td>0.000000e+00</td>\n",
       "      <td>16.000000</td>\n",
       "      <td>16.000000</td>\n",
       "    </tr>\n",
       "    <tr>\n",
       "      <th>25%</th>\n",
       "      <td>4.050000e+02</td>\n",
       "      <td>3.280000e+02</td>\n",
       "      <td>4.072080e+01</td>\n",
       "      <td>-7.399906e+01</td>\n",
       "      <td>3.280000e+02</td>\n",
       "      <td>4.072066e+01</td>\n",
       "      <td>-7.399915e+01</td>\n",
       "      <td>1.748200e+04</td>\n",
       "      <td>NaN</td>\n",
       "      <td>1.000000e+00</td>\n",
       "      <td>NaN</td>\n",
       "      <td>NaN</td>\n",
       "    </tr>\n",
       "    <tr>\n",
       "      <th>50%</th>\n",
       "      <td>6.760000e+02</td>\n",
       "      <td>4.530000e+02</td>\n",
       "      <td>4.073818e+01</td>\n",
       "      <td>-7.398890e+01</td>\n",
       "      <td>4.500000e+02</td>\n",
       "      <td>4.073782e+01</td>\n",
       "      <td>-7.398890e+01</td>\n",
       "      <td>2.052900e+04</td>\n",
       "      <td>NaN</td>\n",
       "      <td>1.000000e+00</td>\n",
       "      <td>NaN</td>\n",
       "      <td>NaN</td>\n",
       "    </tr>\n",
       "    <tr>\n",
       "      <th>75%</th>\n",
       "      <td>1.143000e+03</td>\n",
       "      <td>5.300000e+02</td>\n",
       "      <td>4.075383e+01</td>\n",
       "      <td>-7.397769e+01</td>\n",
       "      <td>5.290000e+02</td>\n",
       "      <td>4.075300e+01</td>\n",
       "      <td>-7.397771e+01</td>\n",
       "      <td>2.362800e+04</td>\n",
       "      <td>NaN</td>\n",
       "      <td>1.000000e+00</td>\n",
       "      <td>NaN</td>\n",
       "      <td>NaN</td>\n",
       "    </tr>\n",
       "    <tr>\n",
       "      <th>max</th>\n",
       "      <td>3.129291e+06</td>\n",
       "      <td>3.260000e+03</td>\n",
       "      <td>4.078721e+01</td>\n",
       "      <td>-7.392989e+01</td>\n",
       "      <td>3.260000e+03</td>\n",
       "      <td>4.078721e+01</td>\n",
       "      <td>0.000000e+00</td>\n",
       "      <td>2.603700e+04</td>\n",
       "      <td>2.000000e+03</td>\n",
       "      <td>2.000000e+00</td>\n",
       "      <td>131.000000</td>\n",
       "      <td>129.000000</td>\n",
       "    </tr>\n",
       "  </tbody>\n",
       "</table>\n",
       "</div>"
      ],
      "text/plain": [
       "       tripduration  start station id  start station latitude  \\\n",
       "count  1.460318e+06      1.460318e+06            1.460318e+06   \n",
       "mean   9.897580e+02      9.562393e+02            4.073736e+01   \n",
       "std    7.589179e+03      1.101579e+03            2.277217e-02   \n",
       "min    6.100000e+01      7.200000e+01            4.067891e+01   \n",
       "25%    4.050000e+02      3.280000e+02            4.072080e+01   \n",
       "50%    6.760000e+02      4.530000e+02            4.073818e+01   \n",
       "75%    1.143000e+03      5.300000e+02            4.075383e+01   \n",
       "max    3.129291e+06      3.260000e+03            4.078721e+01   \n",
       "\n",
       "       start station longitude  end station id  end station latitude  \\\n",
       "count             1.460318e+06    1.460318e+06          1.460318e+06   \n",
       "mean             -7.398694e+01    9.457872e+02          4.073696e+01   \n",
       "std               1.641347e-02    1.093657e+03          7.874038e-02   \n",
       "min              -7.401713e+01    7.200000e+01          0.000000e+00   \n",
       "25%              -7.399906e+01    3.280000e+02          4.072066e+01   \n",
       "50%              -7.398890e+01    4.500000e+02          4.073782e+01   \n",
       "75%              -7.397769e+01    5.290000e+02          4.075300e+01   \n",
       "max              -7.392989e+01    3.260000e+03          4.078721e+01   \n",
       "\n",
       "       end station longitude        bikeid    birth year        gender  \\\n",
       "count           1.460318e+06  1.460318e+06  1.265112e+06  1.460318e+06   \n",
       "mean           -7.398677e+01  2.051037e+04  1.977659e+03  1.079696e+00   \n",
       "std             1.378920e-01  3.454210e+03  1.157717e+01  5.872326e-01   \n",
       "min            -7.408364e+01  1.452900e+04  1.885000e+03  0.000000e+00   \n",
       "25%            -7.399915e+01  1.748200e+04           NaN  1.000000e+00   \n",
       "50%            -7.398890e+01  2.052900e+04           NaN  1.000000e+00   \n",
       "75%            -7.397771e+01  2.362800e+04           NaN  1.000000e+00   \n",
       "max             0.000000e+00  2.603700e+04  2.000000e+03  2.000000e+00   \n",
       "\n",
       "                ageM           ageF  \n",
       "count  947425.000000  314575.000000  \n",
       "mean       38.743638      37.081971  \n",
       "std        11.606224      11.291810  \n",
       "min        16.000000      16.000000  \n",
       "25%              NaN            NaN  \n",
       "50%              NaN            NaN  \n",
       "75%              NaN            NaN  \n",
       "max       131.000000     129.000000  "
      ]
     },
     "execution_count": 10,
     "metadata": {},
     "output_type": "execute_result"
    }
   ],
   "source": [
    "#explore data\n",
    "data.describe()"
   ]
  },
  {
   "cell_type": "code",
   "execution_count": 11,
   "metadata": {
    "collapsed": false
   },
   "outputs": [
    {
     "data": {
      "text/plain": [
       "<matplotlib.text.Text at 0x7f6af01a5bd0>"
      ]
     },
     "execution_count": 11,
     "metadata": {},
     "output_type": "execute_result"
    },
    {
     "data": {
      "image/png": "[encoded data removed]",
      "text/plain": [
       "<matplotlib.figure.Figure at 0x7f6af2850a50>"
      ]
     },
     "metadata": {},
     "output_type": "display_data"
    },
    {
     "data": {
      "image/png": "[encoded data removed]",
      "text/plain": [
       "<matplotlib.figure.Figure at 0x7f6af2850d10>"
      ]
     },
     "metadata": {},
     "output_type": "display_data"
    }
   ],
   "source": [
    "# plot histograms with pandas\n",
    "\n",
    "#first organize data into bins: start = 10, stop = 99, step = 5\n",
    "bins = np.arange(10, 99, 5)\n",
    "axM = data.ageM.groupby(pd.cut(data.ageM, bins)).agg([count_nonzero]).plot(kind='bar', legend=False)\n",
    "axM.set_title(\"male riders\")\n",
    "\n",
    "axF = data.ageF.groupby(pd.cut(data.ageF, bins)).agg([count_nonzero]).plot(kind='bar', legend=False)\n",
    "axF.set_title(\"female riders\")"
   ]
  },
  {
   "cell_type": "code",
   "execution_count": 12,
   "metadata": {
    "collapsed": false
   },
   "outputs": [
    {
     "name": "stdout",
     "output_type": "stream",
     "text": [
      "          count_nonzero\n",
      "ageM                   \n",
      "(10, 15]       0.000000\n",
      "(15, 20]       0.001804\n",
      "(20, 25]       0.028723\n",
      "(25, 30]       0.072360\n",
      "(30, 35]       0.080015\n",
      "(35, 40]       0.059895\n",
      "(40, 45]       0.034306\n",
      "(45, 50]       0.021237\n",
      "(50, 55]       0.013730\n",
      "(55, 60]       0.013854\n",
      "(60, 65]       0.005400\n",
      "(65, 70]       0.002165\n",
      "(70, 75]       0.000173\n",
      "(75, 80]       0.000019\n",
      "(80, 85]       0.000061\n",
      "(85, 90]       0.000010\n",
      "(90, 95]       0.000000\n"
     ]
    },
    {
     "data": {
      "text/plain": [
       "<matplotlib.legend.Legend at 0x7f6aeff86610>"
      ]
     },
     "execution_count": 12,
     "metadata": {},
     "output_type": "execute_result"
    },
    {
     "data": {
      "image/png": "[encoded data removed]",
      "text/plain": [
       "<matplotlib.figure.Figure at 0x7f6af00403d0>"
      ]
     },
     "metadata": {},
     "output_type": "display_data"
    }
   ],
   "source": [
    "#return normalized cumulative number of Cibike riders for ageM and ageF\n",
    "\n",
    "csM=data.ageM.groupby(pd.cut(data.ageM, bins)).agg([count_nonzero]).cumsum()\n",
    "\n",
    "csF=data.ageF.groupby(pd.cut(data.ageF, bins)).agg([count_nonzero]).cumsum()\n",
    "\n",
    "print (np.abs(csM / csM.max()-csF / csF.max()))\n",
    "\n",
    "pl.plot(bins[:-1] + 5, csM / csM.max(), label = \"M\")\n",
    "pl.plot(bins[:-1] + 5, csF / csF.max(), label = \"F\")\n",
    "pl.plot(bins[:-1] + 5, np.sqrt(csF / csF.max() - csM / csM.max())**2, 'k-', label = \"difference\")\n",
    "pl.xlabel(\"Age\")\n",
    "pl.ylabel(\"Normalized Cumulative Number\")\n",
    "pl.legend()"
   ]
  },
  {
   "cell_type": "markdown",
   "metadata": {},
   "source": [
    "## KS tests to compare 2 samples"
   ]
  },
  {
   "cell_type": "code",
   "execution_count": 14,
   "metadata": {
    "collapsed": false
   },
   "outputs": [
    {
     "name": "stdout",
     "output_type": "stream",
     "text": [
      "Ks_2sampResult(statistic=0.082706883585128677, pvalue=0.0)\n"
     ]
    }
   ],
   "source": [
    "import scipy.stats\n",
    "\n",
    "ks = scipy.stats.ks_2samp(data.ageM, data.ageF)\n",
    "print (ks)"
   ]
  },
  {
   "cell_type": "markdown",
   "metadata": {
    "collapsed": true
   },
   "source": [
    "The p-value obtained in this analysis is 0.0, which is less than 0.05 and allows us to reject the null hypothesis. This indicates that the distributions are the same."
   ]
  },
  {
   "cell_type": "markdown",
   "metadata": {},
   "source": [
    "## Pearson Test:"
   ]
  },
  {
   "cell_type": "code",
   "execution_count": 17,
   "metadata": {
    "collapsed": false
   },
   "outputs": [
    {
     "data": {
      "text/html": [
       "<div>\n",
       "<table border=\"1\" class=\"dataframe\">\n",
       "  <thead>\n",
       "    <tr style=\"text-align: right;\">\n",
       "      <th></th>\n",
       "      <th>tripduration</th>\n",
       "      <th>starttime</th>\n",
       "      <th>stoptime</th>\n",
       "      <th>start station id</th>\n",
       "      <th>start station name</th>\n",
       "      <th>start station latitude</th>\n",
       "      <th>start station longitude</th>\n",
       "      <th>end station id</th>\n",
       "      <th>end station name</th>\n",
       "      <th>end station latitude</th>\n",
       "      <th>end station longitude</th>\n",
       "      <th>bikeid</th>\n",
       "      <th>usertype</th>\n",
       "      <th>birth year</th>\n",
       "      <th>gender</th>\n",
       "      <th>ageM</th>\n",
       "      <th>ageF</th>\n",
       "    </tr>\n",
       "  </thead>\n",
       "  <tbody>\n",
       "    <tr>\n",
       "      <th>1</th>\n",
       "      <td>229</td>\n",
       "      <td>6/1/2016 00:00:20</td>\n",
       "      <td>6/1/2016 00:04:09</td>\n",
       "      <td>3092</td>\n",
       "      <td>Berry St &amp; N 8 St</td>\n",
       "      <td>40.719009</td>\n",
       "      <td>-73.958525</td>\n",
       "      <td>3103</td>\n",
       "      <td>N 11 St &amp; Wythe Ave</td>\n",
       "      <td>40.721533</td>\n",
       "      <td>-73.957824</td>\n",
       "      <td>16233</td>\n",
       "      <td>Subscriber</td>\n",
       "      <td>1967.0</td>\n",
       "      <td>1</td>\n",
       "      <td>49.0</td>\n",
       "      <td>NaN</td>\n",
       "    </tr>\n",
       "    <tr>\n",
       "      <th>201</th>\n",
       "      <td>1282</td>\n",
       "      <td>6/1/2016 00:33:43</td>\n",
       "      <td>6/1/2016 00:55:05</td>\n",
       "      <td>3085</td>\n",
       "      <td>Roebling St &amp; N 4 St</td>\n",
       "      <td>40.714690</td>\n",
       "      <td>-73.957390</td>\n",
       "      <td>317</td>\n",
       "      <td>E 6 St &amp; Avenue B</td>\n",
       "      <td>40.724537</td>\n",
       "      <td>-73.981854</td>\n",
       "      <td>19584</td>\n",
       "      <td>Subscriber</td>\n",
       "      <td>1991.0</td>\n",
       "      <td>2</td>\n",
       "      <td>NaN</td>\n",
       "      <td>25.0</td>\n",
       "    </tr>\n",
       "    <tr>\n",
       "      <th>401</th>\n",
       "      <td>968</td>\n",
       "      <td>6/1/2016 01:25:22</td>\n",
       "      <td>6/1/2016 01:41:30</td>\n",
       "      <td>3061</td>\n",
       "      <td>Throop Ave &amp; Myrtle Ave</td>\n",
       "      <td>40.696229</td>\n",
       "      <td>-73.943711</td>\n",
       "      <td>143</td>\n",
       "      <td>Clinton St &amp; Joralemon St</td>\n",
       "      <td>40.692395</td>\n",
       "      <td>-73.993379</td>\n",
       "      <td>22930</td>\n",
       "      <td>Subscriber</td>\n",
       "      <td>1985.0</td>\n",
       "      <td>1</td>\n",
       "      <td>31.0</td>\n",
       "      <td>NaN</td>\n",
       "    </tr>\n",
       "    <tr>\n",
       "      <th>601</th>\n",
       "      <td>336</td>\n",
       "      <td>6/1/2016 04:03:35</td>\n",
       "      <td>6/1/2016 04:09:11</td>\n",
       "      <td>539</td>\n",
       "      <td>Metropolitan Ave &amp; Bedford Ave</td>\n",
       "      <td>40.715348</td>\n",
       "      <td>-73.960241</td>\n",
       "      <td>3073</td>\n",
       "      <td>Division Ave &amp; Hooper St</td>\n",
       "      <td>40.706913</td>\n",
       "      <td>-73.954417</td>\n",
       "      <td>24019</td>\n",
       "      <td>Subscriber</td>\n",
       "      <td>1988.0</td>\n",
       "      <td>1</td>\n",
       "      <td>28.0</td>\n",
       "      <td>NaN</td>\n",
       "    </tr>\n",
       "    <tr>\n",
       "      <th>801</th>\n",
       "      <td>396</td>\n",
       "      <td>6/1/2016 05:41:57</td>\n",
       "      <td>6/1/2016 05:48:34</td>\n",
       "      <td>3175</td>\n",
       "      <td>W 70 St &amp; Amsterdam Ave</td>\n",
       "      <td>40.777480</td>\n",
       "      <td>-73.982886</td>\n",
       "      <td>352</td>\n",
       "      <td>W 56 St &amp; 6 Ave</td>\n",
       "      <td>40.763406</td>\n",
       "      <td>-73.977225</td>\n",
       "      <td>24323</td>\n",
       "      <td>Subscriber</td>\n",
       "      <td>1976.0</td>\n",
       "      <td>1</td>\n",
       "      <td>40.0</td>\n",
       "      <td>NaN</td>\n",
       "    </tr>\n",
       "  </tbody>\n",
       "</table>\n",
       "</div>"
      ],
      "text/plain": [
       "     tripduration          starttime           stoptime  start station id  \\\n",
       "1             229  6/1/2016 00:00:20  6/1/2016 00:04:09              3092   \n",
       "201          1282  6/1/2016 00:33:43  6/1/2016 00:55:05              3085   \n",
       "401           968  6/1/2016 01:25:22  6/1/2016 01:41:30              3061   \n",
       "601           336  6/1/2016 04:03:35  6/1/2016 04:09:11               539   \n",
       "801           396  6/1/2016 05:41:57  6/1/2016 05:48:34              3175   \n",
       "\n",
       "                 start station name  start station latitude  \\\n",
       "1                 Berry St & N 8 St               40.719009   \n",
       "201            Roebling St & N 4 St               40.714690   \n",
       "401         Throop Ave & Myrtle Ave               40.696229   \n",
       "601  Metropolitan Ave & Bedford Ave               40.715348   \n",
       "801         W 70 St & Amsterdam Ave               40.777480   \n",
       "\n",
       "     start station longitude  end station id           end station name  \\\n",
       "1                 -73.958525            3103        N 11 St & Wythe Ave   \n",
       "201               -73.957390             317          E 6 St & Avenue B   \n",
       "401               -73.943711             143  Clinton St & Joralemon St   \n",
       "601               -73.960241            3073   Division Ave & Hooper St   \n",
       "801               -73.982886             352            W 56 St & 6 Ave   \n",
       "\n",
       "     end station latitude  end station longitude  bikeid    usertype  \\\n",
       "1               40.721533             -73.957824   16233  Subscriber   \n",
       "201             40.724537             -73.981854   19584  Subscriber   \n",
       "401             40.692395             -73.993379   22930  Subscriber   \n",
       "601             40.706913             -73.954417   24019  Subscriber   \n",
       "801             40.763406             -73.977225   24323  Subscriber   \n",
       "\n",
       "     birth year  gender  ageM  ageF  \n",
       "1        1967.0       1  49.0   NaN  \n",
       "201      1991.0       2   NaN  25.0  \n",
       "401      1985.0       1  31.0   NaN  \n",
       "601      1988.0       1  28.0   NaN  \n",
       "801      1976.0       1  40.0   NaN  "
      ]
     },
     "execution_count": 17,
     "metadata": {},
     "output_type": "execute_result"
    }
   ],
   "source": [
    "#subset data using np.arange:\n",
    "subdata = data.iloc[np.arange(1,len(data),200),:]\n",
    "subdata.head()"
   ]
  },
  {
   "cell_type": "code",
   "execution_count": 18,
   "metadata": {
    "collapsed": false
   },
   "outputs": [
    {
     "name": "stdout",
     "output_type": "stream",
     "text": [
      "Ks_2sampResult(statistic=0.4433032046014791, pvalue=0.0)\n"
     ]
    }
   ],
   "source": [
    "#before sorting:\n",
    "ks_sub = scipy.stats.ks_2samp(subdata.ageM, subdata.ageF)\n",
    "print (ks_sub)"
   ]
  },
  {
   "cell_type": "code",
   "execution_count": 53,
   "metadata": {
    "collapsed": true
   },
   "outputs": [],
   "source": [
    "#reindex data: \n",
    "data.ageM.index = range(1,len(data.ageM)+1)"
   ]
  },
  {
   "cell_type": "code",
   "execution_count": 54,
   "metadata": {
    "collapsed": false
   },
   "outputs": [
    {
     "data": {
      "text/plain": [
       "1     44.0\n",
       "4     25.0\n",
       "7     30.0\n",
       "10    52.0\n",
       "13    34.0\n",
       "Name: ageM, dtype: float64"
      ]
     },
     "execution_count": 54,
     "metadata": {},
     "output_type": "execute_result"
    }
   ],
   "source": [
    "#explore data:\n",
    "count = np.linspace(1,len(data.ageM),len(data.ageF)).astype(int)\n",
    "new_m = data.ageM[count]\n",
    "new_m.head()"
   ]
  },
  {
   "cell_type": "code",
   "execution_count": 55,
   "metadata": {
    "collapsed": false
   },
   "outputs": [
    {
     "data": {
      "text/plain": [
       "Series([], Name: ageM, dtype: float64)"
      ]
     },
     "execution_count": 55,
     "metadata": {},
     "output_type": "execute_result"
    }
   ],
   "source": [
    "new_m[new_m.isnull() == True]"
   ]
  },
  {
   "cell_type": "code",
   "execution_count": 43,
   "metadata": {
    "collapsed": false
   },
   "outputs": [
    {
     "data": {
      "text/plain": [
       "314575"
      ]
     },
     "execution_count": 43,
     "metadata": {},
     "output_type": "execute_result"
    }
   ],
   "source": [
    "#make sure new male data is same size as female data:\n",
    "len(new_m)"
   ]
  },
  {
   "cell_type": "code",
   "execution_count": 61,
   "metadata": {
    "collapsed": false
   },
   "outputs": [],
   "source": [
    "#sort data by first copying data and then sort by ascending values:\n",
    "fcopy = data.ageF.copy()\n",
    "fcopy.sort_values(ascending = True, inplace = True)\n",
    "\n",
    "mcopy = new_m.copy()\n",
    "mcopy.sort_values(ascending = True, inplace = True)"
   ]
  },
  {
   "cell_type": "code",
   "execution_count": 62,
   "metadata": {
    "collapsed": false
   },
   "outputs": [
    {
     "name": "stdout",
     "output_type": "stream",
     "text": [
      "(0.99581428637751845, 0.0)\n"
     ]
    }
   ],
   "source": [
    "#perform test:\n",
    "pearson = scipy.stats.pearsonr(mcopy, fcopy)\n",
    "print(pearson)"
   ]
  },
  {
   "cell_type": "markdown",
   "metadata": {},
   "source": [
    "This test returned a correlation coefficient very close to one, implying that the two distributions are extremely similar. This means that we can reject the null hypothesis."
   ]
  },
  {
   "cell_type": "markdown",
   "metadata": {},
   "source": [
    "### Spearman Test:"
   ]
  },
  {
   "cell_type": "code",
   "execution_count": 63,
   "metadata": {
    "collapsed": false
   },
   "outputs": [
    {
     "name": "stdout",
     "output_type": "stream",
     "text": [
      "SpearmanrResult(correlation=0.99905949717534936, pvalue=0.0)\n"
     ]
    }
   ],
   "source": [
    "#perform test:\n",
    "spearman = scipy.stats.spearmanr(mcopy, fcopy)\n",
    "print(spearman)"
   ]
  },
  {
   "cell_type": "markdown",
   "metadata": {
    "collapsed": true
   },
   "source": [
    "This test returned a correlation coefficient again of almost one, which implies that the two distributions are very similar and we can reject the null hypothesis."
   ]
  },
  {
   "cell_type": "code",
   "execution_count": null,
   "metadata": {
    "collapsed": true
   },
   "outputs": [],
   "source": []
  }
 ],
 "metadata": {
  "kernelspec": {
   "display_name": "Python 2",
   "language": "python",
   "name": "python2"
  },
  "language_info": {
   "codemirror_mode": {
    "name": "ipython",
    "version": 2
   },
   "file_extension": ".py",
   "mimetype": "text/x-python",
   "name": "python",
   "nbconvert_exporter": "python",
   "pygments_lexer": "ipython2",
   "version": "2.7.11"
  }
 },
 "nbformat": 4,
 "nbformat_minor": 0
}
