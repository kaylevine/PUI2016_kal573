{
 "cells": [
  {
   "cell_type": "markdown",
   "metadata": {},
   "source": [
    "# Assignment 3: \n",
    "\n",
    "## Professor demonstration, with my contribution starting at the 'To Do' section"
   ]
  },
  {
   "cell_type": "markdown",
   "metadata": {},
   "source": [
    "### Set working environment"
   ]
  },
  {
   "cell_type": "code",
   "execution_count": 4,
   "metadata": {
    "collapsed": false
   },
   "outputs": [
    {
     "name": "stdout",
     "output_type": "stream",
     "text": [
      "Populating the interactive namespace from numpy and matplotlib\n"
     ]
    }
   ],
   "source": [
    "import os\n",
    "import sys\n",
    "import numpy as np\n",
    "import pylab as pl\n",
    "\n",
    "\n",
    "import json\n",
    "import os\n",
    "\n",
    "%pylab inline\n"
   ]
  },
  {
   "cell_type": "markdown",
   "metadata": {},
   "source": [
    "### Null Hypothesis: the % of former prisoners employed after release is the same or lower for candidates who participated in the program as for the control group, significance level p=0.05\n",
    "\n",
    "$H_0: P_0 - P_1 \\geq$ 0\n",
    "\n",
    "$H_a: P_0 - P_1 $< 0\n",
    "\n",
    "$\\alpha$ = 0.05\n",
    "\n",
    "### this is a TEST OF PROPORTIONS. we use the Binomial distribution since it is a yes/no (bernulli) test for each subject: the former inmate was or was not ever employed in a CEO transitional job (second row in the table above):\n",
    "\n",
    "$P_0=0.035\n",
    "\n",
    "P_1=0.701$"
   ]
  },
  {
   "cell_type": "code",
   "execution_count": 5,
   "metadata": {
    "collapsed": false
   },
   "outputs": [
    {
     "name": "stdout",
     "output_type": "stream",
     "text": [
      "we must assess the statistical significance\n"
     ]
    }
   ],
   "source": [
    "#set significance level before performing calculations:\n",
    "alpha=0.05\n",
    "\n",
    "P_0 = 3.5/100 \n",
    "P_1 = 70.1/100\n",
    "\n",
    "if P_0-P_1 >= 0:\n",
    "    # we are done\n",
    "    print (\"the Null holds\")\n",
    "else:\n",
    "    print (\"we must assess the statistical significance\")\n",
    "\n",
    "n_0 = 409\n",
    "n_1 = 564\n",
    "\n",
    "#find counts by multiplying sample size:\n",
    "Nt_0 = P_0 * n_0\n",
    "Nt_1 = P_1 * n_1\n"
   ]
  },
  {
   "cell_type": "markdown",
   "metadata": {},
   "source": [
    "### Perform Z Test:"
   ]
  },
  {
   "cell_type": "code",
   "execution_count": 6,
   "metadata": {
    "collapsed": false
   },
   "outputs": [
    {
     "name": "stdout",
     "output_type": "stream",
     "text": [
      "0.421047276465\n",
      "(0.035, 409, 564, 0.03206580860573819)\n"
     ]
    }
   ],
   "source": [
    "#define sample standard deviation:\n",
    "\n",
    "#first find the sample proportion\n",
    "sp = (P_0 * n_0 + P_1 * n_1) / (n_1 + n_0)\n",
    "print (sp)\n",
    "\n",
    "#find standard deviation\n",
    "sp_stdev = lambda p, n: np.sqrt( p * ( 1 - p ) / n[0] +  p * ( 1 - p ) / n[1]  )\n",
    "\n",
    "\n",
    "sp_stdev_2y = sp_stdev(( Nt_0 + Nt_1) / (n_0 + n_1), [n_0, n_1])\n",
    "print (P_0, n_0, n_1, sp_stdev_2y)"
   ]
  },
  {
   "cell_type": "code",
   "execution_count": 7,
   "metadata": {
    "collapsed": false
   },
   "outputs": [
    {
     "name": "stdout",
     "output_type": "stream",
     "text": [
      "20.7697865408\n"
     ]
    }
   ],
   "source": [
    "#find z score:\n",
    "zscore = lambda p0, p1, s : (p0 - p1) / s\n",
    "z_2y = zscore(P_1, P_0, sp_stdev_2y)\n",
    "print (z_2y)"
   ]
  },
  {
   "cell_type": "markdown",
   "metadata": {},
   "source": [
    "### Find P-Value"
   ]
  },
  {
   "cell_type": "code",
   "execution_count": 8,
   "metadata": {
    "collapsed": false
   },
   "outputs": [
    {
     "name": "stdout",
     "output_type": "stream",
     "text": [
      "is the p value 0.00 smaller than the critical value 0.05? \n",
      "YES!\n",
      "the Null hypothesis is rejected\n"
     ]
    }
   ],
   "source": [
    "#find p-value using table:\n",
    "\n",
    "# p-value for employment after 2 years: \n",
    "# since the largest number we read off the table for alpha=0.05 is smaller then the value for our statistic \n",
    "# our p-value will be smaller then calculated using .9998\n",
    "\n",
    "p_2y = 1 - 0.9998\n",
    "\n",
    "\n",
    "def report_result(p,a):\n",
    "    print ('is the p value {0:.2f} smaller than the critical value {1:.2f}? '.format(p,a))\n",
    "    if p < a:\n",
    "        print (\"YES!\")\n",
    "    else: \n",
    "        print (\"NO!\")\n",
    "    \n",
    "    print ('the Null hypothesis is {}'.format( 'rejected' if p < a  else 'not rejected') )\n",
    "\n",
    "    \n",
    "report_result(p_2y,alpha)"
   ]
  },
  {
   "cell_type": "markdown",
   "metadata": {
    "collapsed": true
   },
   "source": [
    "### Conclusions:\n",
    "\n",
    "The p-value, 0.00, was smaller than the critical value 0.05 (significance level). Therefore, the Null Hypothesis is rejected, which means the % of former prisoners employed after release is greater for candidates who participated in the program as for the control group. This also means that it is not by chance alone and it is statistically significant."
   ]
  },
  {
   "cell_type": "markdown",
   "metadata": {},
   "source": [
    "# To Do:\n",
    "\n",
    "### Former inmate was or was not \"Convicted of a felony\" (row 10) in the Recidivism (Years 1-3)\n",
    "\n",
    "### Null hypothesis:\n",
    "The % of former prisoners convicted of a felony is the same or higher for candidates who participated in the program as for the control group\n",
    "\n",
    "significance level p=0.05\n",
    "\n",
    "H0:P0f−P1f≥ 0 \n",
    "\n",
    "Ha:P0f−P1f< 0 \n",
    "\n",
    "α = 0.05\n",
    "\n",
    "\n",
    "P0f=0.117,P1f=0.100"
   ]
  },
  {
   "cell_type": "code",
   "execution_count": 16,
   "metadata": {
    "collapsed": false
   },
   "outputs": [
    {
     "name": "stdout",
     "output_type": "stream",
     "text": [
      "the Null holds\n"
     ]
    }
   ],
   "source": [
    "#set significance level before performing calculations:\n",
    "#define variables used in this analysis:\n",
    "alpha=0.05\n",
    "\n",
    "P_0f = 11.7/100 \n",
    "P_1f = 10.0/100\n",
    "\n",
    "if P_0f-P_1f >= 0:\n",
    "    # we are done\n",
    "    print (\"the Null holds\")\n",
    "else:\n",
    "    print (\"we must assess the statistical significance\")\n",
    "\n",
    "n_0f = 409\n",
    "n_1f = 568\n",
    "\n",
    "#find counts by multiplying sample size:\n",
    "Nt_0f = P_0f * n_0f\n",
    "Nt_1f = P_1f * n_1f\n"
   ]
  },
  {
   "cell_type": "markdown",
   "metadata": {},
   "source": [
    "### Z Test:"
   ]
  },
  {
   "cell_type": "code",
   "execution_count": 17,
   "metadata": {
    "collapsed": false
   },
   "outputs": [
    {
     "name": "stdout",
     "output_type": "stream",
     "text": [
      "0.107116683726\n",
      "(0.11699999999999999, 409, 568, 0.020055679161170879)\n"
     ]
    }
   ],
   "source": [
    "#define sample standard deviation:\n",
    "\n",
    "#first find the sample proportion\n",
    "spf = (P_0f * n_0f + P_1f * n_1f) / (n_1f + n_0f)\n",
    "print (spf)\n",
    "\n",
    "#find standard deviation\n",
    "sp_stdevf = lambda pf, nf: np.sqrt( pf * ( 1 - pf ) / nf[0] +  pf * ( 1 - pf ) / nf[1]  )\n",
    "\n",
    "\n",
    "sp_stdev_2yf = sp_stdevf(( Nt_0f + Nt_1f) / (n_0f + n_1f), [n_0f, n_1f])\n",
    "print (P_0f, n_0f, n_1f, sp_stdev_2yf)"
   ]
  },
  {
   "cell_type": "code",
   "execution_count": 18,
   "metadata": {
    "collapsed": false
   },
   "outputs": [
    {
     "name": "stdout",
     "output_type": "stream",
     "text": [
      "-0.84764020522\n"
     ]
    }
   ],
   "source": [
    "#find z score:\n",
    "zscoref = lambda p0f, p1f, sf : (p0f - p1f) / sf\n",
    "z_2yf = zscoref(P_1f, P_0f, sp_stdev_2yf)\n",
    "print (z_2yf)"
   ]
  },
  {
   "cell_type": "code",
   "execution_count": 14,
   "metadata": {
    "collapsed": false
   },
   "outputs": [
    {
     "name": "stdout",
     "output_type": "stream",
     "text": [
      "is the p value 0.20 smaller than the critical value 0.05? \n",
      "NO!\n",
      "the Null hypothesis is not rejected\n"
     ]
    }
   ],
   "source": [
    "#find p-value using table:\n",
    "\n",
    "# p-value for employment after 2 years: \n",
    "# since the largest number we read off the table for alpha=0.05 is smaller then the value for our statistic \n",
    "# our p-value will be smaller then calculated using .9998\n",
    "\n",
    "p_2yf = 1 - 0.8023\n",
    "\n",
    "\n",
    "def report_result(pf,af):\n",
    "    print ('is the p value {0:.2f} smaller than the critical value {1:.2f}? '.format(pf,af))\n",
    "    if pf < af:\n",
    "        print (\"YES!\")\n",
    "    else: \n",
    "        print (\"NO!\")\n",
    "    \n",
    "    print ('the Null hypothesis is {}'.format( 'rejected' if pf < af  else 'not rejected') )\n",
    "\n",
    "    \n",
    "report_result(p_2yf,alpha)"
   ]
  },
  {
   "cell_type": "markdown",
   "metadata": {},
   "source": [
    "### Conclusions:\n",
    "\n",
    "The Null Hypothesis was not rejected in the Z-test above, therefore the difference is not statistically significant."
   ]
  },
  {
   "cell_type": "markdown",
   "metadata": {},
   "source": [
    "## Chi Squared Analysis:"
   ]
  },
  {
   "cell_type": "code",
   "execution_count": 34,
   "metadata": {
    "collapsed": false
   },
   "outputs": [
    {
     "name": "stdout",
     "output_type": "stream",
     "text": [
      "0.718493917505\n"
     ]
    }
   ],
   "source": [
    "chisqstat= lambda N, values, expect_num : ((values[0][0] * values[1][1]\n",
    "                                            -values[0][1] * values[1][0])**2) * N / expect_num\n",
    "Ntot = 977 # a + b + c + d = tot\n",
    "\n",
    "tot1 = ((n_0f*P_0f)+(n_1f*P_1f))\n",
    "tot2 = ((n_0f*(1-P_0f))+(n_1f*(1-P_1f)))\n",
    "\n",
    "\n",
    "\n",
    "expected_num = n_0f * n_1f * tot1 * tot2\n",
    "sample_values = [[P_0f * n_1f, (1-P_0f) * n_1f], [P_1f * n_0f, (1-P_1f) * n_0f]]\n",
    " \n",
    "\n",
    "print (chisqstat(Ntot,  sample_values, expected_num))"
   ]
  },
  {
   "cell_type": "markdown",
   "metadata": {},
   "source": [
    "Degrees of Freedom: 1"
   ]
  },
  {
   "cell_type": "markdown",
   "metadata": {},
   "source": [
    "### Comparison to Chi-Squared Distribution and Conclusions:\n",
    "\n",
    "0.7185 is less than 3.84 so therefore we do not reject the Null Hypothesis. Again, the difference between variables in not statistically signifcant in this case."
   ]
  },
  {
   "cell_type": "code",
   "execution_count": 35,
   "metadata": {
    "collapsed": false
   },
   "outputs": [
    {
     "name": "stdout",
     "output_type": "stream",
     "text": [
      "409\n",
      "568\n"
     ]
    }
   ],
   "source": [
    "print(n_0f)\n",
    "print(n_1f)"
   ]
  },
  {
   "cell_type": "code",
   "execution_count": 36,
   "metadata": {
    "collapsed": false
   },
   "outputs": [
    {
     "name": "stdout",
     "output_type": "stream",
     "text": [
      "0.117\n",
      "0.1\n"
     ]
    }
   ],
   "source": [
    "print(P_0f)\n",
    "print(P_1f)"
   ]
  },
  {
   "cell_type": "code",
   "execution_count": 43,
   "metadata": {
    "collapsed": false
   },
   "outputs": [
    {
     "name": "stdout",
     "output_type": "stream",
     "text": [
      "104.653\n",
      "872.347\n"
     ]
    }
   ],
   "source": [
    "print(tot1)\n",
    "print(tot2)"
   ]
  },
  {
   "cell_type": "markdown",
   "metadata": {},
   "source": [
    "### Contigency Table:\n",
    "\n",
    "|Convicted of a felony |Employed |Not Employed |\n",
    "|:----------:||:----------:||:----------:|\n",
    "|test sample|409 * 0.117|409 * (1-0.117)|\n",
    "|control sample|568 * 0.1|568 * (1-0.1)|\n",
    "|total|104.653|872.347|"
   ]
  },
  {
   "cell_type": "code",
   "execution_count": null,
   "metadata": {
    "collapsed": true
   },
   "outputs": [],
   "source": []
  }
 ],
 "metadata": {
  "kernelspec": {
   "display_name": "Python 2",
   "language": "python",
   "name": "python2"
  },
  "language_info": {
   "codemirror_mode": {
    "name": "ipython",
    "version": 2
   },
   "file_extension": ".py",
   "mimetype": "text/x-python",
   "name": "python",
   "nbconvert_exporter": "python",
   "pygments_lexer": "ipython2",
   "version": "2.7.11"
  }
 },
 "nbformat": 4,
 "nbformat_minor": 0
}
